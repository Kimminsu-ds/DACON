{
 "cells": [
  {
   "cell_type": "markdown",
   "metadata": {},
   "source": [
    "# DACON - 제주시 퇴근시간 버스승차인원 예측 대회\n",
    "### 제주도 버스의 효율적인 운행을 위한 퇴근시간 승차인원을 예측하는 모델"
   ]
  },
  {
   "cell_type": "markdown",
   "metadata": {},
   "source": [
    "### 패키지"
   ]
  },
  {
   "cell_type": "code",
   "execution_count": 1,
   "metadata": {},
   "outputs": [],
   "source": [
    "import pandas as pd\n",
    "import numpy as np\n",
    "import matplotlib.pyplot as plt\n",
    "from selenium import webdriver\n",
    "from haversine import haversine\n",
    "\n",
    "from sklearn.model_selection import cross_val_score\n",
    "from sklearn.ensemble import RandomForestRegressor\n",
    "from xgboost import XGBRegressor\n",
    "from lightgbm import LGBMRegressor\n",
    "from sklearn.metrics import mean_squared_error\n",
    "from sklearn.model_selection import GridSearchCV"
   ]
  },
  {
   "cell_type": "markdown",
   "metadata": {},
   "source": [
    "# 01. 외부 데이터 수집\n",
    "### 01-01. 관광\n",
    "### 제주공항 일일예상승객정보 수집 크롤러를 이용하여 `airport` 데이터프레임에 저장\n",
    "- 한국공항공사 홈페이지에서 제주공항 일일 예상 승객 정보를 가져와 **`airport`** 데이터프레임에 저장\n",
    "- 기간: 2019-08-01 ~ 2019-10-31\n",
    "- 출처: https://www.airport.co.kr/www/extra/dailyExpect/dailyExpectList/layOut.do?yyyy=2019&mm=9&dd=1"
   ]
  },
  {
   "cell_type": "code",
   "execution_count": 2,
   "metadata": {},
   "outputs": [],
   "source": [
    "driver = webdriver.Chrome(\"./chromedriver\")\n",
    "airport = pd.DataFrame(columns=[\"date\", \"korean\", \"foreigner\"])\n",
    "for m in [8, 9, 10]:\n",
    "    for d in range(1, 32):\n",
    "        date = \"2019-\" + str(m) + \"-\" + str(d)\n",
    "        url = \"https://www.airport.co.kr/www/extra/dailyExpect/dailyExpectList/layOut.do?yyyy=2019&mm=\" + str(m) + \"&dd=\" +str(d)\n",
    "        try:\n",
    "            driver.get(url)\n",
    "            driver.implicitly_wait(2)\n",
    "            korean    = driver.find_element_by_xpath('//*[@id=\"customer_container\"]/div[6]/div/table/tfoot/tr/td[5]').text\n",
    "            foreigner = driver.find_element_by_xpath('//*[@id=\"customer_container\"]/div[6]/div/table/tfoot/tr/td[6]').text\n",
    "            \n",
    "            if (korean==\"0\") or (foreigner==\"0\"):\n",
    "                continue\n",
    "            \n",
    "            driver.implicitly_wait(2)\n",
    "            airport = airport.append({\"date\":date, \"korean\":korean, \"foreigner\":foreigner}, ignore_index=True)\n",
    "            driver.implicitly_wait(2)\n",
    "        except:\n",
    "            pass\n",
    "        \n",
    "driver.close()"
   ]
  },
  {
   "cell_type": "markdown",
   "metadata": {},
   "source": [
    "- 변수형 변환"
   ]
  },
  {
   "cell_type": "code",
   "execution_count": 3,
   "metadata": {},
   "outputs": [],
   "source": [
    "airport[\"date\"] = pd.to_datetime(airport[\"date\"])\n",
    "airport[\"korean\"] = airport[\"korean\"].str.replace(\",\", \"\").astype(int)\n",
    "airport[\"foreigner\"] = airport[\"foreigner\"].str.replace(\",\", \"\").astype(int)"
   ]
  },
  {
   "cell_type": "markdown",
   "metadata": {},
   "source": [
    "- **`visitor`** 변수에 내국인과 외국인 이용객 수를 합한 값을 저장"
   ]
  },
  {
   "cell_type": "code",
   "execution_count": 4,
   "metadata": {},
   "outputs": [],
   "source": [
    "airport[\"visitor\"] = airport[\"korean\"] + airport[\"foreigner\"]"
   ]
  },
  {
   "cell_type": "markdown",
   "metadata": {},
   "source": [
    "- 해당 날짜의 3일전, 2일전, 1일전 총 방문객 수 정보를 가지고 있는 **`(t-3), (t-2), (t-1)`** 변수 추가\n",
    "- **`2019-09-01~2019-10-16`** 기간의 데이터만 저장"
   ]
  },
  {
   "cell_type": "code",
   "execution_count": 5,
   "metadata": {},
   "outputs": [
    {
     "name": "stderr",
     "output_type": "stream",
     "text": [
      "C:\\Users\\kimminsu\\Anaconda3\\lib\\site-packages\\ipykernel_launcher.py:4: SettingWithCopyWarning: \n",
      "A value is trying to be set on a copy of a slice from a DataFrame\n",
      "\n",
      "See the caveats in the documentation: http://pandas.pydata.org/pandas-docs/stable/user_guide/indexing.html#returning-a-view-versus-a-copy\n",
      "  after removing the cwd from sys.path.\n",
      "C:\\Users\\kimminsu\\Anaconda3\\lib\\site-packages\\ipykernel_launcher.py:5: SettingWithCopyWarning: \n",
      "A value is trying to be set on a copy of a slice from a DataFrame\n",
      "\n",
      "See the caveats in the documentation: http://pandas.pydata.org/pandas-docs/stable/user_guide/indexing.html#returning-a-view-versus-a-copy\n",
      "  \"\"\"\n",
      "C:\\Users\\kimminsu\\Anaconda3\\lib\\site-packages\\ipykernel_launcher.py:6: SettingWithCopyWarning: \n",
      "A value is trying to be set on a copy of a slice from a DataFrame\n",
      "\n",
      "See the caveats in the documentation: http://pandas.pydata.org/pandas-docs/stable/user_guide/indexing.html#returning-a-view-versus-a-copy\n",
      "  \n"
     ]
    }
   ],
   "source": [
    "def get_previous_data(df):\n",
    "    df[\"(t-3)\"], df[\"(t-2)\"], df[\"(t-1)\"] = None, None, None\n",
    "    for i in range(3, len(df)):\n",
    "        df[\"(t-3)\"][i] = int(df[\"visitor\"][i-3])\n",
    "        df[\"(t-2)\"][i] = int(df[\"visitor\"][i-2])\n",
    "        df[\"(t-1)\"][i] = int(df[\"visitor\"][i-1])\n",
    "    df.dropna(inplace=True)\n",
    "    df = df.loc[31:76].reset_index(drop=True)\n",
    "    return df\n",
    "airport = get_previous_data(airport)"
   ]
  },
  {
   "cell_type": "markdown",
   "metadata": {},
   "source": [
    "- 최근 3일간 제주공항 총 이용객 수를 **`visitor_3days`** 변수에 저장"
   ]
  },
  {
   "cell_type": "code",
   "execution_count": 6,
   "metadata": {},
   "outputs": [],
   "source": [
    "airport[\"visitor_3days\"] = airport[\"(t-1)\"] + airport[\"(t-2)\"] + airport[\"(t-3)\"]"
   ]
  },
  {
   "cell_type": "markdown",
   "metadata": {},
   "source": [
    "### 제주지역 주요관광지점 입장객 통계(2015년~2019년)\n",
    "- 관광지식정보시스템에서 제주지역 주요관광지점 입장객 5개년 통계 데이터를 저장\n",
    "- 출처: https://know.tour.go.kr/stat/tourStatSearchDis.do;jsessionid=DC7A844358F8D44AD08FE9F17BA70A1B"
   ]
  },
  {
   "cell_type": "code",
   "execution_count": 9,
   "metadata": {},
   "outputs": [],
   "source": [
    "attraction = pd.read_excel(\"./data/제주 주요관광지점 입장객 통계.xls\")"
   ]
  },
  {
   "cell_type": "markdown",
   "metadata": {},
   "source": [
    "- 관광지 별로 5개년 총계만 저장하는 데이터프레임 생성"
   ]
  },
  {
   "cell_type": "code",
   "execution_count": 11,
   "metadata": {},
   "outputs": [],
   "source": [
    "spot = pd.DataFrame({\"name\":[], \"entrant\":[]})\n",
    "for i in range(0, len(attraction)):\n",
    "    if attraction[\"내/외국인\"][i] == \"합계\":\n",
    "        spot = spot.append({\"name\":attraction[\"관광지\"][i], \"entrant\":attraction[\"총계\"][i].replace(\",\", \"\")}, ignore_index=True)"
   ]
  },
  {
   "cell_type": "markdown",
   "metadata": {},
   "source": [
    "- 관광지명이 중복되는 값들이 존재하여 하나의 값으로 합친 후 중복 제거"
   ]
  },
  {
   "cell_type": "code",
   "execution_count": 12,
   "metadata": {},
   "outputs": [],
   "source": [
    "spot.loc[spot[\"name\"]==\"항몽 유적지\", \"entrant\"] = 191830 + 227119\n",
    "spot.loc[spot[\"name\"]==\"제주항일기념관\", \"entrant\"] = 401717 + 292502\n",
    "spot.loc[spot[\"name\"]==\"제주추사관\", \"entrant\"] = 191211 + 206162\n",
    "spot = spot.drop_duplicates().reset_index(drop=True)"
   ]
  },
  {
   "cell_type": "markdown",
   "metadata": {},
   "source": [
    "- 구글 지도 검색을 통해 각 관광지의 위도/경도 정보를 가져와 **`spot_geocode`** 딕셔너리에 저장"
   ]
  },
  {
   "cell_type": "code",
   "execution_count": 13,
   "metadata": {},
   "outputs": [],
   "source": [
    "spot_geocode = {\"도립미술관\": (33.452489, 126.489892), \"만장굴관광지\": (33.528593, 126.771470), \"민속자연사박물관\": (33.506724, 126.531586), \"비자림\": (33.484478, 126.806447),\n",
    "               \"삼양선사유적지\": (33.523114, 126.587842), \"절물자연휴양림\": (33.439650, 126.629434), \"제주도립 김창열미술관\": (33.339047, 126.268235), \"제주돌문화공원\": (33.448834, 126.658701),\n",
    "               \"제주목관아지\": (33.513623, 126.521968), \"제주별빛누리공원\": (33.444682, 126.549200), \"제주항일기념관\": (33.541782, 126.642933), \"항몽 유적지\": (33.452224, 126.407726),\n",
    "               \"해녀 박물관\": (33.523775, 126.863540), \"국립제주박물관\": (33.513536, 126.548980), \"삼양선사유적지\": (33.523186, 126.587789), \"한라산국립공원\": (33.375321, 126.533089),\n",
    "               \"감귤박물관\": (33.271676, 126.607607), \"기당미술관\": (33.244848, 126.551252), \"마라해양도립공원\": (33.118159, 126.267831), \"박물관은살아있다\": (33.255073, 126.408636),\n",
    "               \"산방산\": (33.244078, 126.312759), \"서귀포도립해양공원\": (33.246939, 126.557900), \"서귀포자연휴양림\": (33.311528, 126.460233), \"서복전시관\": (33.245038, 126.570858),\n",
    "               \"성산일출봉\": (33.462633, 126.942843), \"이중섭미술관\": (33.246065, 126.564983), \"일출랜드\": (33.383712, 126.841353), \"정방폭포\": (33.245058, 126.571868),\n",
    "               \"제주추사관\": (33.250097, 126.278324), \"중문대포해안주상절리대\": (33.238108, 126.424584), \"천제연폭포\": (33.250847, 126.416762), \"천지연폭포\": (33.249523, 126.554416),\n",
    "               \"카멜리아힐\": (33.289209, 126.370117), \"퍼시픽랜드\": (33.243925, 126.415752), \"한화아쿠아플라넷제주\": (33.433026, 126.927899)}"
   ]
  },
  {
   "cell_type": "markdown",
   "metadata": {},
   "source": [
    "- **`spot`** 데이터프레임에 **`latitude(위도), longitude(경도)`** 변수 추가"
   ]
  },
  {
   "cell_type": "code",
   "execution_count": 14,
   "metadata": {},
   "outputs": [],
   "source": [
    "spot[\"latitude\"]  = spot[\"name\"].apply(lambda x: spot_geocode[x][0])\n",
    "spot[\"longitude\"] = spot[\"name\"].apply(lambda x: spot_geocode[x][1])"
   ]
  },
  {
   "cell_type": "markdown",
   "metadata": {},
   "source": [
    "- **`entrant`** 변수의 값을 연평균 관광객으로 변환"
   ]
  },
  {
   "cell_type": "code",
   "execution_count": 15,
   "metadata": {},
   "outputs": [],
   "source": [
    "spot[\"entrant\"] = spot[\"entrant\"].astype(int) / 5"
   ]
  },
  {
   "cell_type": "markdown",
   "metadata": {},
   "source": [
    "#### **`grade`** 변수 생성\n",
    "- **`entrant(연평균 관광객)`**이 50만명 이상일 경우 \"A\" 등급\n",
    "- **`entrant(연평균 관광객)`**이 10만명 이상 50만명 미만일 경우 \"B\" 등급\n",
    "- **`entrant(연평균 관광객)`**이 10만명 미만일 경우 \"C\" 등급"
   ]
  },
  {
   "cell_type": "code",
   "execution_count": 18,
   "metadata": {},
   "outputs": [],
   "source": [
    "def grade(x):\n",
    "    if x>=500000:\n",
    "        return \"A\"\n",
    "    elif (x>=100000) & (x<500000):\n",
    "        return \"B\"\n",
    "    else:\n",
    "        return \"C\"\n",
    "    \n",
    "spot[\"grade\"] = spot[\"entrant\"].apply(grade)"
   ]
  },
  {
   "cell_type": "markdown",
   "metadata": {},
   "source": [
    "### 01-02. 날씨\n",
    "- 기상자료개방포털에서 제주지역 지상관측 자료 수집(2019-09-01 ~ 2019-10-16)\n",
    "- 출처: https://data.kma.go.kr/data/grnd/selectAsosRltmList.do?pgmNo=36"
   ]
  },
  {
   "cell_type": "code",
   "execution_count": 20,
   "metadata": {},
   "outputs": [],
   "source": [
    "weather = pd.read_csv(\"./data/제주도 지상관측 자료.csv\", engine=\"python\", parse_dates=[\"일시\"])"
   ]
  },
  {
   "cell_type": "markdown",
   "metadata": {},
   "source": [
    "- 결측치 다수 존재"
   ]
  },
  {
   "cell_type": "code",
   "execution_count": 21,
   "metadata": {},
   "outputs": [
    {
     "data": {
      "text/plain": [
       "지점            0\n",
       "지점명           0\n",
       "일시            0\n",
       "기온(°C)        0\n",
       "강수량(mm)    3473\n",
       "풍속(m/s)      46\n",
       "습도(%)         0\n",
       "dtype: int64"
      ]
     },
     "execution_count": 21,
     "metadata": {},
     "output_type": "execute_result"
    }
   ],
   "source": [
    "weather.isnull().sum()"
   ]
  },
  {
   "cell_type": "markdown",
   "metadata": {},
   "source": [
    "#### Data leakage 방지를 위해 06 ~ 12시 이외 데이터 제외\n",
    "- **`일시`** 변수에서 시간을 추출하여 **`time`** 변수에 저장 후 시간 정보는 삭제"
   ]
  },
  {
   "cell_type": "code",
   "execution_count": 22,
   "metadata": {},
   "outputs": [],
   "source": [
    "weather[\"time\"] = weather[\"일시\"].apply(lambda x: x.time().strftime(\"%H\"))\n",
    "weather[\"일시\"] = weather[\"일시\"].apply(lambda x: x.strftime(\"%Y-%m-%d\"))"
   ]
  },
  {
   "cell_type": "markdown",
   "metadata": {},
   "source": [
    "- 06 ~ 12시 이외 데이터 제외"
   ]
  },
  {
   "cell_type": "code",
   "execution_count": 23,
   "metadata": {},
   "outputs": [],
   "source": [
    "weather = weather.loc[(weather[\"time\"].astype(int) > 5) & (weather[\"time\"].astype(int) < 13), :]\n",
    "weather.reset_index(drop=True, inplace=True)"
   ]
  },
  {
   "cell_type": "markdown",
   "metadata": {},
   "source": [
    "#### 변수명 변경"
   ]
  },
  {
   "cell_type": "code",
   "execution_count": 24,
   "metadata": {},
   "outputs": [],
   "source": [
    "weather.columns = [\"weather_stn_id\", \"weather_stn_name\", \"date\", \"temp\", \"rain\", \"wind\", \"humidity\", \"time\"]"
   ]
  },
  {
   "cell_type": "markdown",
   "metadata": {},
   "source": [
    "#### 보간(interpolation)\n",
    "- 결측값들을 앞뒤 자료를 고려하여 채워넣음"
   ]
  },
  {
   "cell_type": "code",
   "execution_count": 25,
   "metadata": {},
   "outputs": [],
   "source": [
    "weather.interpolate(limit_direction=\"both\", inplace=True)"
   ]
  },
  {
   "cell_type": "markdown",
   "metadata": {},
   "source": [
    "#### 최종 날씨 정보를 저장할 데이터프레임 생성"
   ]
  },
  {
   "cell_type": "code",
   "execution_count": 26,
   "metadata": {},
   "outputs": [
    {
     "data": {
      "text/html": [
       "<div>\n",
       "<style scoped>\n",
       "    .dataframe tbody tr th:only-of-type {\n",
       "        vertical-align: middle;\n",
       "    }\n",
       "\n",
       "    .dataframe tbody tr th {\n",
       "        vertical-align: top;\n",
       "    }\n",
       "\n",
       "    .dataframe thead th {\n",
       "        text-align: right;\n",
       "    }\n",
       "</style>\n",
       "<table border=\"1\" class=\"dataframe\">\n",
       "  <thead>\n",
       "    <tr style=\"text-align: right;\">\n",
       "      <th></th>\n",
       "      <th>weather_stn_id</th>\n",
       "      <th>weather_stn_name</th>\n",
       "      <th>date</th>\n",
       "    </tr>\n",
       "  </thead>\n",
       "  <tbody>\n",
       "    <tr>\n",
       "      <th>0</th>\n",
       "      <td>184</td>\n",
       "      <td>제주</td>\n",
       "      <td>2019-09-01</td>\n",
       "    </tr>\n",
       "    <tr>\n",
       "      <th>1</th>\n",
       "      <td>184</td>\n",
       "      <td>제주</td>\n",
       "      <td>2019-09-02</td>\n",
       "    </tr>\n",
       "    <tr>\n",
       "      <th>2</th>\n",
       "      <td>184</td>\n",
       "      <td>제주</td>\n",
       "      <td>2019-09-03</td>\n",
       "    </tr>\n",
       "    <tr>\n",
       "      <th>3</th>\n",
       "      <td>184</td>\n",
       "      <td>제주</td>\n",
       "      <td>2019-09-04</td>\n",
       "    </tr>\n",
       "    <tr>\n",
       "      <th>4</th>\n",
       "      <td>184</td>\n",
       "      <td>제주</td>\n",
       "      <td>2019-09-05</td>\n",
       "    </tr>\n",
       "  </tbody>\n",
       "</table>\n",
       "</div>"
      ],
      "text/plain": [
       "   weather_stn_id weather_stn_name        date\n",
       "0             184               제주  2019-09-01\n",
       "1             184               제주  2019-09-02\n",
       "2             184               제주  2019-09-03\n",
       "3             184               제주  2019-09-04\n",
       "4             184               제주  2019-09-05"
      ]
     },
     "execution_count": 26,
     "metadata": {},
     "output_type": "execute_result"
    }
   ],
   "source": [
    "weather2 = weather[[\"weather_stn_id\", \"weather_stn_name\", \"date\"]].drop_duplicates().reset_index(drop=True)\n",
    "weather2.head()"
   ]
  },
  {
   "cell_type": "code",
   "execution_count": 27,
   "metadata": {},
   "outputs": [],
   "source": [
    "def get_variable(start, end, category):\n",
    "    result = []\n",
    "    \n",
    "    for ID in [184, 185, 188, 189]:\n",
    "        for d in np.unique(weather2.date):\n",
    "            tmp = weather.loc[(weather.weather_stn_id==ID) & (weather.date==d)]\n",
    "            start_value = float(tmp.loc[tmp.time==start, category])\n",
    "            end_value = float(tmp.loc[tmp.time==end, category])\n",
    "            result.append((start_value + end_value)/2)\n",
    "    return result"
   ]
  },
  {
   "cell_type": "code",
   "execution_count": 28,
   "metadata": {},
   "outputs": [],
   "source": [
    "start = [\"06\", \"07\", \"08\", \"09\", \"10\", \"11\"]\n",
    "end = [\"07\", \"08\", \"09\", \"10\", \"11\", \"12\"]\n",
    "category = [\"temp\", \"rain\", \"wind\", \"humidity\"]\n",
    "\n",
    "for s, e in zip(start, end):\n",
    "    for c in category:\n",
    "        var_name = s + \"~\" + e + \"_\" + c\n",
    "        weather2[var_name] = get_variable(s, e, c)"
   ]
  },
  {
   "cell_type": "markdown",
   "metadata": {},
   "source": [
    "#### `THI(불쾌지수)`  변수 추가\n",
    "- 불쾌지수 공식: **`(1.8 * 기온) - (0.55 * (1-습도(%)) * (1.8 * 기온 - 26)) + 32`** \n",
    "\n",
    "#### `THI_category` 변수 추가\n",
    "- **`THI(불쾌지수)`** 80 이상: 매우 높음(3), 전원 불쾌감을 느낌\n",
    "- **`THI(불쾌지수)`** 75 이상 80 미만: 높음(2), 50% 정도 불쾌감을 느낌\n",
    "- **`THI(불쾌지수)`** 68 이상 75 미만: 보통(1), 불쾌감을 나타내기 시작함\n",
    "- **`THI(불쾌지수)`** 68 미만: 낮음(0), 전원 쾌적함을 느낌"
   ]
  },
  {
   "cell_type": "code",
   "execution_count": 30,
   "metadata": {},
   "outputs": [],
   "source": [
    "def THI(start, end):\n",
    "    temp = start + \"~\" + end + \"_temp\"\n",
    "    humidity = start + \"~\" + end + \"_humidity\"\n",
    "    return (1.8 * weather2[temp]) - (0.55 * (1-weather2[humidity]*0.01) * (1.8 * weather2[temp] - 26)) + 32\n",
    "\n",
    "def THI_category(x):\n",
    "    if x >= 80:\n",
    "        return 3\n",
    "    elif (x >= 75) & (x < 80):\n",
    "        return 2\n",
    "    elif (x >= 68) & (x < 75):\n",
    "        return 1\n",
    "    else:\n",
    "        return 0"
   ]
  },
  {
   "cell_type": "code",
   "execution_count": 31,
   "metadata": {},
   "outputs": [],
   "source": [
    "weather2[\"06~07_THI\"] = THI(\"06\", \"07\")\n",
    "weather2[\"07~08_THI\"] = THI(\"07\", \"08\")\n",
    "weather2[\"08~09_THI\"] = THI(\"08\", \"09\")\n",
    "weather2[\"09~10_THI\"] = THI(\"09\", \"10\")\n",
    "weather2[\"10~11_THI\"] = THI(\"10\", \"11\")\n",
    "weather2[\"11~12_THI\"] = THI(\"11\", \"12\")"
   ]
  },
  {
   "cell_type": "code",
   "execution_count": 32,
   "metadata": {},
   "outputs": [],
   "source": [
    "weather2[\"06~07_THI_category\"] = pd.Categorical(weather2[\"06~07_THI\"].apply(THI_category))\n",
    "weather2[\"07~08_THI_category\"] = pd.Categorical(weather2[\"07~08_THI\"].apply(THI_category))\n",
    "weather2[\"08~09_THI_category\"] = pd.Categorical(weather2[\"08~09_THI\"].apply(THI_category))\n",
    "weather2[\"09~10_THI_category\"] = pd.Categorical(weather2[\"09~10_THI\"].apply(THI_category))\n",
    "weather2[\"10~11_THI_category\"] = pd.Categorical(weather2[\"10~11_THI\"].apply(THI_category))\n",
    "weather2[\"11~12_THI_category\"] = pd.Categorical(weather2[\"11~12_THI\"].apply(THI_category))"
   ]
  },
  {
   "cell_type": "markdown",
   "metadata": {},
   "source": [
    "#### `rain_category` 변수 추가\n",
    "- **`rain(강수량)`**이 10.0보다 작으면 비가 오지 않음: 0\n",
    "- **`rain(강수량)`**이 10.0보다 크면 비가 옴 : 1"
   ]
  },
  {
   "cell_type": "code",
   "execution_count": 33,
   "metadata": {},
   "outputs": [],
   "source": [
    "def rain_category(x):\n",
    "    if x <= 10:\n",
    "        return 0\n",
    "    else:\n",
    "        return 1"
   ]
  },
  {
   "cell_type": "code",
   "execution_count": 34,
   "metadata": {},
   "outputs": [],
   "source": [
    "weather2[\"06~07_rain_category\"] = pd.Categorical(weather2[\"06~07_rain\"].apply(rain_category))\n",
    "weather2[\"07~08_rain_category\"] = pd.Categorical(weather2[\"07~08_rain\"].apply(rain_category))\n",
    "weather2[\"08~09_rain_category\"] = pd.Categorical(weather2[\"08~09_rain\"].apply(rain_category))\n",
    "weather2[\"09~10_rain_category\"] = pd.Categorical(weather2[\"09~10_rain\"].apply(rain_category))\n",
    "weather2[\"10~11_rain_category\"] = pd.Categorical(weather2[\"10~11_rain\"].apply(rain_category))\n",
    "weather2[\"11~12_rain_category\"] = pd.Categorical(weather2[\"11~12_rain\"].apply(rain_category))"
   ]
  },
  {
   "cell_type": "markdown",
   "metadata": {},
   "source": [
    "#### 기상자료개발포털에서 관측 지점의 위도, 경도를 가져와 **`weather_geocode`** 딕셔너리에 저장\n",
    "- 출처: https://data.kma.go.kr/tmeta/stn/selectStnList.do"
   ]
  },
  {
   "cell_type": "code",
   "execution_count": 35,
   "metadata": {},
   "outputs": [],
   "source": [
    "weather_geocode = {\"184\": (33.5141, 126.5297), \"185\": (33.2938, 126.1628), \"188\": (33.3868, 126.8804), \"189\": (33.2462, 126.5653)}"
   ]
  },
  {
   "cell_type": "markdown",
   "metadata": {},
   "source": [
    "- **`weather2`** 데이터프레임에 **`latitude, longitude`** 변수로 추가"
   ]
  },
  {
   "cell_type": "code",
   "execution_count": 36,
   "metadata": {},
   "outputs": [],
   "source": [
    "weather2[\"weather_stn_latitude\"] = weather2.weather_stn_id.apply(lambda x: weather_geocode[str(x)][0])\n",
    "weather2[\"weather_stn_longitude\"] = weather2.weather_stn_id.apply(lambda x: weather_geocode[str(x)][1])"
   ]
  },
  {
   "cell_type": "markdown",
   "metadata": {},
   "source": [
    "#### 변수형 변환"
   ]
  },
  {
   "cell_type": "code",
   "execution_count": 37,
   "metadata": {},
   "outputs": [],
   "source": [
    "weather2[\"weather_stn_id\"] = pd.Categorical(weather2[\"weather_stn_id\"].astype(str))\n",
    "weather2[\"date\"] = pd.to_datetime(weather2[\"date\"], format=\"%Y-%m-%d\")"
   ]
  },
  {
   "cell_type": "markdown",
   "metadata": {},
   "source": [
    "# 02. 제공 데이터\n",
    "### 02-01. 데이터 확인\n",
    "#### 훈련 데이터 확인"
   ]
  },
  {
   "cell_type": "code",
   "execution_count": 38,
   "metadata": {},
   "outputs": [
    {
     "data": {
      "text/html": [
       "<div>\n",
       "<style scoped>\n",
       "    .dataframe tbody tr th:only-of-type {\n",
       "        vertical-align: middle;\n",
       "    }\n",
       "\n",
       "    .dataframe tbody tr th {\n",
       "        vertical-align: top;\n",
       "    }\n",
       "\n",
       "    .dataframe thead th {\n",
       "        text-align: right;\n",
       "    }\n",
       "</style>\n",
       "<table border=\"1\" class=\"dataframe\">\n",
       "  <thead>\n",
       "    <tr style=\"text-align: right;\">\n",
       "      <th></th>\n",
       "      <th>id</th>\n",
       "      <th>date</th>\n",
       "      <th>bus_route_id</th>\n",
       "      <th>in_out</th>\n",
       "      <th>station_code</th>\n",
       "      <th>station_name</th>\n",
       "      <th>latitude</th>\n",
       "      <th>longitude</th>\n",
       "      <th>6~7_ride</th>\n",
       "      <th>7~8_ride</th>\n",
       "      <th>...</th>\n",
       "      <th>9~10_ride</th>\n",
       "      <th>10~11_ride</th>\n",
       "      <th>11~12_ride</th>\n",
       "      <th>6~7_takeoff</th>\n",
       "      <th>7~8_takeoff</th>\n",
       "      <th>8~9_takeoff</th>\n",
       "      <th>9~10_takeoff</th>\n",
       "      <th>10~11_takeoff</th>\n",
       "      <th>11~12_takeoff</th>\n",
       "      <th>18~20_ride</th>\n",
       "    </tr>\n",
       "  </thead>\n",
       "  <tbody>\n",
       "    <tr>\n",
       "      <th>0</th>\n",
       "      <td>0</td>\n",
       "      <td>2019-09-01</td>\n",
       "      <td>4270000</td>\n",
       "      <td>시외</td>\n",
       "      <td>344</td>\n",
       "      <td>제주썬호텔</td>\n",
       "      <td>33.4899</td>\n",
       "      <td>126.49373</td>\n",
       "      <td>0.0</td>\n",
       "      <td>1.0</td>\n",
       "      <td>...</td>\n",
       "      <td>5.0</td>\n",
       "      <td>2.0</td>\n",
       "      <td>6.0</td>\n",
       "      <td>0.0</td>\n",
       "      <td>0.0</td>\n",
       "      <td>0.0</td>\n",
       "      <td>0.0</td>\n",
       "      <td>0.0</td>\n",
       "      <td>0.0</td>\n",
       "      <td>0.0</td>\n",
       "    </tr>\n",
       "  </tbody>\n",
       "</table>\n",
       "<p>1 rows × 21 columns</p>\n",
       "</div>"
      ],
      "text/plain": [
       "   id       date  bus_route_id in_out  station_code station_name  latitude  \\\n",
       "0   0 2019-09-01       4270000     시외           344        제주썬호텔   33.4899   \n",
       "\n",
       "   longitude  6~7_ride  7~8_ride  ...  9~10_ride  10~11_ride  11~12_ride  \\\n",
       "0  126.49373       0.0       1.0  ...        5.0         2.0         6.0   \n",
       "\n",
       "   6~7_takeoff  7~8_takeoff  8~9_takeoff  9~10_takeoff  10~11_takeoff  \\\n",
       "0          0.0          0.0          0.0           0.0            0.0   \n",
       "\n",
       "   11~12_takeoff  18~20_ride  \n",
       "0            0.0         0.0  \n",
       "\n",
       "[1 rows x 21 columns]"
      ]
     },
     "execution_count": 38,
     "metadata": {},
     "output_type": "execute_result"
    }
   ],
   "source": [
    "trainval = pd.read_csv(\"./data/train.csv\", parse_dates=[\"date\"])\n",
    "trainval.head(1)"
   ]
  },
  {
   "cell_type": "code",
   "execution_count": 39,
   "metadata": {},
   "outputs": [
    {
     "name": "stdout",
     "output_type": "stream",
     "text": [
      "train 데이터의 구조: (415423, 21)\n",
      "train 결측값 개수: 0\n"
     ]
    }
   ],
   "source": [
    "print(\"train 데이터의 구조:\", trainval.shape)\n",
    "print(\"train 결측값 개수:\", trainval.isnull().sum().sum())"
   ]
  },
  {
   "cell_type": "markdown",
   "metadata": {},
   "source": [
    "#### 테스트 데이터 확인"
   ]
  },
  {
   "cell_type": "code",
   "execution_count": 40,
   "metadata": {},
   "outputs": [
    {
     "data": {
      "text/html": [
       "<div>\n",
       "<style scoped>\n",
       "    .dataframe tbody tr th:only-of-type {\n",
       "        vertical-align: middle;\n",
       "    }\n",
       "\n",
       "    .dataframe tbody tr th {\n",
       "        vertical-align: top;\n",
       "    }\n",
       "\n",
       "    .dataframe thead th {\n",
       "        text-align: right;\n",
       "    }\n",
       "</style>\n",
       "<table border=\"1\" class=\"dataframe\">\n",
       "  <thead>\n",
       "    <tr style=\"text-align: right;\">\n",
       "      <th></th>\n",
       "      <th>id</th>\n",
       "      <th>date</th>\n",
       "      <th>bus_route_id</th>\n",
       "      <th>in_out</th>\n",
       "      <th>station_code</th>\n",
       "      <th>station_name</th>\n",
       "      <th>latitude</th>\n",
       "      <th>longitude</th>\n",
       "      <th>6~7_ride</th>\n",
       "      <th>7~8_ride</th>\n",
       "      <th>8~9_ride</th>\n",
       "      <th>9~10_ride</th>\n",
       "      <th>10~11_ride</th>\n",
       "      <th>11~12_ride</th>\n",
       "      <th>6~7_takeoff</th>\n",
       "      <th>7~8_takeoff</th>\n",
       "      <th>8~9_takeoff</th>\n",
       "      <th>9~10_takeoff</th>\n",
       "      <th>10~11_takeoff</th>\n",
       "      <th>11~12_takeoff</th>\n",
       "    </tr>\n",
       "  </thead>\n",
       "  <tbody>\n",
       "    <tr>\n",
       "      <th>0</th>\n",
       "      <td>415423</td>\n",
       "      <td>2019-10-01</td>\n",
       "      <td>4270000</td>\n",
       "      <td>시외</td>\n",
       "      <td>344</td>\n",
       "      <td>제주썬호텔</td>\n",
       "      <td>33.4899</td>\n",
       "      <td>126.49373</td>\n",
       "      <td>4.0</td>\n",
       "      <td>4.0</td>\n",
       "      <td>7.0</td>\n",
       "      <td>2.0</td>\n",
       "      <td>9.0</td>\n",
       "      <td>1.0</td>\n",
       "      <td>0.0</td>\n",
       "      <td>0.0</td>\n",
       "      <td>0.0</td>\n",
       "      <td>0.0</td>\n",
       "      <td>0.0</td>\n",
       "      <td>1.0</td>\n",
       "    </tr>\n",
       "  </tbody>\n",
       "</table>\n",
       "</div>"
      ],
      "text/plain": [
       "       id       date  bus_route_id in_out  station_code station_name  \\\n",
       "0  415423 2019-10-01       4270000     시외           344        제주썬호텔   \n",
       "\n",
       "   latitude  longitude  6~7_ride  7~8_ride  8~9_ride  9~10_ride  10~11_ride  \\\n",
       "0   33.4899  126.49373       4.0       4.0       7.0        2.0         9.0   \n",
       "\n",
       "   11~12_ride  6~7_takeoff  7~8_takeoff  8~9_takeoff  9~10_takeoff  \\\n",
       "0         1.0          0.0          0.0          0.0           0.0   \n",
       "\n",
       "   10~11_takeoff  11~12_takeoff  \n",
       "0            0.0            1.0  "
      ]
     },
     "execution_count": 40,
     "metadata": {},
     "output_type": "execute_result"
    }
   ],
   "source": [
    "test = pd.read_csv(\"./data/test.csv\", parse_dates=[\"date\"])\n",
    "test.head(1)"
   ]
  },
  {
   "cell_type": "code",
   "execution_count": 41,
   "metadata": {},
   "outputs": [
    {
     "name": "stdout",
     "output_type": "stream",
     "text": [
      "test 데이터의 구조: (228170, 20)\n",
      "test 결측값 개수: 0\n"
     ]
    }
   ],
   "source": [
    "print(\"test 데이터의 구조:\", test.shape)\n",
    "print(\"test 결측값 개수:\", test.isnull().sum().sum())"
   ]
  },
  {
   "cell_type": "markdown",
   "metadata": {},
   "source": [
    "### 02-02. Feature engineering - 날짜 관련\n",
    "- **`date`** 변수를 통해 데이터의 요일을 추출하여 **`dayofweek`** 변수에 저장\n",
    "    - 0: 월요일, 1: 화요일, 2: 수요일, 3: 목요일, 4: 금요일, 5: 토요일, 6: 일요일"
   ]
  },
  {
   "cell_type": "code",
   "execution_count": 42,
   "metadata": {},
   "outputs": [],
   "source": [
    "trainval[\"dayofweek\"] = trainval[\"date\"].apply(lambda x: x.weekday())\n",
    "test[\"dayofweek\"] = test[\"date\"].apply(lambda x: x.weekday())"
   ]
  },
  {
   "cell_type": "code",
   "execution_count": 43,
   "metadata": {},
   "outputs": [
    {
     "data": {
      "text/html": [
       "<div>\n",
       "<style scoped>\n",
       "    .dataframe tbody tr th:only-of-type {\n",
       "        vertical-align: middle;\n",
       "    }\n",
       "\n",
       "    .dataframe tbody tr th {\n",
       "        vertical-align: top;\n",
       "    }\n",
       "\n",
       "    .dataframe thead th {\n",
       "        text-align: right;\n",
       "    }\n",
       "</style>\n",
       "<table border=\"1\" class=\"dataframe\">\n",
       "  <thead>\n",
       "    <tr style=\"text-align: right;\">\n",
       "      <th></th>\n",
       "      <th>id</th>\n",
       "      <th>date</th>\n",
       "      <th>bus_route_id</th>\n",
       "      <th>in_out</th>\n",
       "      <th>station_code</th>\n",
       "      <th>station_name</th>\n",
       "      <th>latitude</th>\n",
       "      <th>longitude</th>\n",
       "      <th>6~7_ride</th>\n",
       "      <th>7~8_ride</th>\n",
       "      <th>...</th>\n",
       "      <th>9~10_ride</th>\n",
       "      <th>10~11_ride</th>\n",
       "      <th>11~12_ride</th>\n",
       "      <th>6~7_takeoff</th>\n",
       "      <th>7~8_takeoff</th>\n",
       "      <th>8~9_takeoff</th>\n",
       "      <th>9~10_takeoff</th>\n",
       "      <th>10~11_takeoff</th>\n",
       "      <th>11~12_takeoff</th>\n",
       "      <th>dayofweek</th>\n",
       "    </tr>\n",
       "  </thead>\n",
       "  <tbody>\n",
       "    <tr>\n",
       "      <th>0</th>\n",
       "      <td>415423</td>\n",
       "      <td>2019-10-01</td>\n",
       "      <td>4270000</td>\n",
       "      <td>시외</td>\n",
       "      <td>344</td>\n",
       "      <td>제주썬호텔</td>\n",
       "      <td>33.4899</td>\n",
       "      <td>126.49373</td>\n",
       "      <td>4.0</td>\n",
       "      <td>4.0</td>\n",
       "      <td>...</td>\n",
       "      <td>2.0</td>\n",
       "      <td>9.0</td>\n",
       "      <td>1.0</td>\n",
       "      <td>0.0</td>\n",
       "      <td>0.0</td>\n",
       "      <td>0.0</td>\n",
       "      <td>0.0</td>\n",
       "      <td>0.0</td>\n",
       "      <td>1.0</td>\n",
       "      <td>1</td>\n",
       "    </tr>\n",
       "  </tbody>\n",
       "</table>\n",
       "<p>1 rows × 21 columns</p>\n",
       "</div>"
      ],
      "text/plain": [
       "       id       date  bus_route_id in_out  station_code station_name  \\\n",
       "0  415423 2019-10-01       4270000     시외           344        제주썬호텔   \n",
       "\n",
       "   latitude  longitude  6~7_ride  7~8_ride  ...  9~10_ride  10~11_ride  \\\n",
       "0   33.4899  126.49373       4.0       4.0  ...        2.0         9.0   \n",
       "\n",
       "   11~12_ride  6~7_takeoff  7~8_takeoff  8~9_takeoff  9~10_takeoff  \\\n",
       "0         1.0          0.0          0.0          0.0           0.0   \n",
       "\n",
       "   10~11_takeoff  11~12_takeoff  dayofweek  \n",
       "0            0.0            1.0          1  \n",
       "\n",
       "[1 rows x 21 columns]"
      ]
     },
     "execution_count": 43,
     "metadata": {},
     "output_type": "execute_result"
    }
   ],
   "source": [
    "test.head(1)"
   ]
  },
  {
   "cell_type": "markdown",
   "metadata": {},
   "source": [
    "- 월 ~ 목의 퇴근시간 평균 승차 인원 수와 금 ~ 일의 퇴근시간 평균 승차 인원 수와의 유의미한 차이가 있다."
   ]
  },
  {
   "cell_type": "code",
   "execution_count": 44,
   "metadata": {},
   "outputs": [
    {
     "data": {
      "text/plain": [
       "dayofweek\n",
       "0    1.343710\n",
       "1    1.375319\n",
       "2    1.430856\n",
       "3    1.256710\n",
       "4    1.067439\n",
       "5    1.062123\n",
       "6    1.034282\n",
       "Name: 18~20_ride, dtype: float64"
      ]
     },
     "execution_count": 44,
     "metadata": {},
     "output_type": "execute_result"
    }
   ],
   "source": [
    "trainval.groupby([\"dayofweek\"])[\"18~20_ride\"].mean()"
   ]
  },
  {
   "cell_type": "markdown",
   "metadata": {},
   "source": [
    "#### `weekday` 변수 생성\n",
    "- **`weekday=0`**: 월/화/수/목\n",
    "- **`weekday=1`**: 금/토/일/공휴일(추석, 개천절, 한글날 등)"
   ]
  },
  {
   "cell_type": "code",
   "execution_count": 45,
   "metadata": {},
   "outputs": [],
   "source": [
    "def weekday_category(x):\n",
    "    holiday = [\"2019-09-12\", \"2019-09-13\", \"2019-09-14\", \"2019-09-15\", \"2019-10-03\", \"2019-10-09\"]\n",
    "    \n",
    "    if (x in holiday) or x.weekday() > 3:\n",
    "        return 1\n",
    "    else:\n",
    "        return 0\n",
    "    \n",
    "trainval[\"weekday\"] = trainval.date.apply(weekday_category)"
   ]
  },
  {
   "cell_type": "markdown",
   "metadata": {},
   "source": [
    "### 02-03. Feature engineering - 정류소 관련\n",
    "- **`train과 test`**셋의 모든 정류소에 대한 정보를 **`stn`** 데이터프레임에 저장한다."
   ]
  },
  {
   "cell_type": "code",
   "execution_count": 46,
   "metadata": {},
   "outputs": [],
   "source": [
    "stn = trainval[[\"station_code\", \"station_name\", \"latitude\", \"longitude\"]]\n",
    "stn = stn.append(test[[\"station_code\", \"station_name\", \"latitude\", \"longitude\"]])\n",
    "stn = stn.drop_duplicates()\n",
    "stn = stn.sort_values(by=[\"station_code\"]).reset_index(drop=True)"
   ]
  },
  {
   "cell_type": "markdown",
   "metadata": {},
   "source": [
    "- 각 정류소와 기상 관측소와의 거리를 측정하여 정류소와 가장 가까운 기상 관측소를 할당"
   ]
  },
  {
   "cell_type": "code",
   "execution_count": 47,
   "metadata": {},
   "outputs": [],
   "source": [
    "def get_weather_stn(x):\n",
    "    bus_stn_geocode = (x[\"latitude\"], x[\"longitude\"])\n",
    "    weather_stn_list = list(weather_geocode.keys())\n",
    "    weather_geocode_list = list(weather_geocode.values())\n",
    "    \n",
    "    distance = list()\n",
    "    \n",
    "    for g in weather_geocode_list:\n",
    "        distance.append(haversine(bus_stn_geocode, g))\n",
    "        \n",
    "    return weather_stn_list[np.argmin(distance)]    \n",
    "\n",
    "stn[\"weather_stn_id\"] = stn.apply(get_weather_stn, axis=1)"
   ]
  },
  {
   "cell_type": "markdown",
   "metadata": {},
   "source": [
    "- 위도, 경도 정보를 이용하여 각 정류소에서 반경 1km(도보 15분 거리) 안에 있는 관광지를 등급별로 카운트"
   ]
  },
  {
   "cell_type": "code",
   "execution_count": 48,
   "metadata": {},
   "outputs": [],
   "source": [
    "def get_spot(x, grade):\n",
    "    bus_stn_geocode = (x[\"latitude\"], x[\"longitude\"])\n",
    "    count = 0\n",
    "    \n",
    "    for i in range(len(spot)):\n",
    "        if spot[\"grade\"][i] == grade:\n",
    "            dist = haversine(bus_stn_geocode, (spot[\"latitude\"][i], spot[\"longitude\"][i]))\n",
    "            if dist < 1:\n",
    "                count += 1\n",
    "    return count"
   ]
  },
  {
   "cell_type": "code",
   "execution_count": 49,
   "metadata": {},
   "outputs": [],
   "source": [
    "stn[\"n_A_grade\"] = stn.apply(get_spot, grade=\"A\", axis=1)\n",
    "stn[\"n_B_grade\"] = stn.apply(get_spot, grade=\"B\", axis=1)\n",
    "stn[\"n_C_grade\"] = stn.apply(get_spot, grade=\"C\", axis=1)"
   ]
  },
  {
   "cell_type": "markdown",
   "metadata": {},
   "source": [
    "- 각 정류소에서 유니크한 **`bus_route_id`**를 카운트하여 해당 정류소에서 이용할 수 있는 노선의 수를 **`n_route`**에 저장 후 **`stn`**과 병합"
   ]
  },
  {
   "cell_type": "code",
   "execution_count": 50,
   "metadata": {},
   "outputs": [],
   "source": [
    "n_route = trainval[[\"station_code\", \"bus_route_id\"]]\n",
    "n_route = n_route.append(test[[\"station_code\", \"bus_route_id\"]])\n",
    "n_route.drop_duplicates(inplace=True)\n",
    "n_route = n_route.groupby(\"station_code\").count()\n",
    "n_route = n_route.sort_values(by=[\"station_code\"]).reset_index()\n",
    "n_route.columns = [\"station_code\", \"n_route\"]\n",
    "stn = stn.merge(n_route)"
   ]
  },
  {
   "cell_type": "markdown",
   "metadata": {},
   "source": [
    "### 02-04. Feature engineering - 버스 노선 관련\n",
    "- **`train과 test`**셋의 각 노선이 포함된 정류소의 정보를 **`route`** 데이터프레임에 저장한다."
   ]
  },
  {
   "cell_type": "code",
   "execution_count": 51,
   "metadata": {},
   "outputs": [],
   "source": [
    "route = trainval[[\"station_code\", \"bus_route_id\"]]\n",
    "route = route.append(test[[\"station_code\", \"bus_route_id\"]])\n",
    "route.drop_duplicates(inplace=True)\n",
    "route = route.groupby(\"bus_route_id\").count()\n",
    "route = route.sort_values(by=[\"bus_route_id\"]).reset_index()\n",
    "route.columns = [\"bus_route_id\", \"n_station\"]"
   ]
  },
  {
   "cell_type": "markdown",
   "metadata": {},
   "source": [
    "### 02-05. 최종 데이터셋 생성\n",
    "#### 모델 훈련과 검증을 위해 제공된 **`train`** 데이터를 다시 **`train/val`** 데이터로 분리\n",
    "- **`train`**: 2019-09-01 ~ 2019-09-21\n",
    "- **`val`**: 2019-09-22 ~ 2019-09-30"
   ]
  },
  {
   "cell_type": "code",
   "execution_count": 53,
   "metadata": {},
   "outputs": [
    {
     "name": "stdout",
     "output_type": "stream",
     "text": [
      "train 데이터 구조:  (289010, 23)\n",
      "val   데이터 구조:  (126413, 23)\n"
     ]
    }
   ],
   "source": [
    "train = trainval.loc[trainval.date.dt.day<22].reset_index(drop=True)\n",
    "val = trainval.loc[trainval.date.dt.day>21].reset_index(drop=True)\n",
    "\n",
    "print(\"train 데이터 구조: \", train.shape)\n",
    "print(\"val   데이터 구조: \", val.shape)"
   ]
  },
  {
   "cell_type": "markdown",
   "metadata": {},
   "source": [
    "- 각 노선 + 시내/시외 + 정류소 별로 요일별/시간별 평균 승하차 인원을 반환하는 사용자 정의 함수 **`get_average_passengers`** 정의"
   ]
  },
  {
   "cell_type": "code",
   "execution_count": 54,
   "metadata": {},
   "outputs": [],
   "source": [
    "def get_average_passengers(df):\n",
    "    result = df.drop([\"id\", \"date\", \"station_name\", \"latitude\", \"longitude\", 'weekday', \"18~20_ride\"], axis=1)\n",
    "    result[\"bus\"] = result.bus_route_id.astype(str) + \" \" + result.in_out.astype(str) + \" \" + result.station_code.astype(str) + \" \" + result.dayofweek.astype(str)\n",
    "    result.drop([\"bus_route_id\", \"in_out\", \"station_code\", \"dayofweek\"], axis=1, inplace=True)\n",
    "    result = result.groupby(\"bus\").mean().reset_index()\n",
    " \n",
    "    col_list = []\n",
    "    \n",
    "    for col_idx in range(1, len(result.columns)):\n",
    "        col_list.append(\"mean_\" + result.columns[col_idx])\n",
    "        \n",
    "    col_list = [\"bus\"] + col_list\n",
    "    result.columns = col_list\n",
    "    \n",
    "    result[\"bus_route_id\"] = result.bus.apply(lambda x: x.split(\" \")[0]).astype(int)\n",
    "    result[\"in_out\"] =  result.bus.apply(lambda x: x.split(\" \")[1])\n",
    "    result[\"station_code\"] =  result.bus.apply(lambda x: x.split(\" \")[2]).astype(int)\n",
    "    result[\"dayofweek\"] = result.bus.apply(lambda x: x.split(\" \")[3]).astype(int)\n",
    "    result.drop([\"bus\"], axis=1, inplace=True)\n",
    "    \n",
    "    return result\n",
    "\n",
    "train_passengers = get_average_passengers(train)"
   ]
  },
  {
   "cell_type": "markdown",
   "metadata": {},
   "source": [
    "#### 제공 데이터와 추가로 생성한 데이터를 병합하여 최종 분석용 데이터셋 생성"
   ]
  },
  {
   "cell_type": "code",
   "execution_count": 56,
   "metadata": {},
   "outputs": [],
   "source": [
    "train = train.merge(airport,  how=\"left\")\n",
    "train = train.merge(stn,      how=\"left\")\n",
    "train = train.merge(route,    how=\"left\")\n",
    "train = train.merge(weather2, how=\"left\")\n",
    "train = train.merge(train_passengers, how=\"left\")"
   ]
  },
  {
   "cell_type": "markdown",
   "metadata": {},
   "source": [
    "#### 모델링에 포함하지 않을 변수 제거"
   ]
  },
  {
   "cell_type": "code",
   "execution_count": 57,
   "metadata": {},
   "outputs": [],
   "source": [
    "train = train.drop([\"id\", \"date\", \"station_name\", \"latitude\", \"longitude\", \"weather_stn_id\", \"weather_stn_name\", \n",
    "                    \"weather_stn_latitude\", \"weather_stn_longitude\"], axis=1)"
   ]
  },
  {
   "cell_type": "markdown",
   "metadata": {},
   "source": [
    "- **`in_out`** 변수 값 변경(시내: 0, 시외: 1)"
   ]
  },
  {
   "cell_type": "code",
   "execution_count": 58,
   "metadata": {},
   "outputs": [],
   "source": [
    "train.loc[train.in_out==\"시내\", \"in_out\"] = 0\n",
    "train.loc[train.in_out==\"시외\", \"in_out\"] = 1"
   ]
  },
  {
   "cell_type": "markdown",
   "metadata": {},
   "source": [
    "#### 변수형 변환"
   ]
  },
  {
   "cell_type": "code",
   "execution_count": 59,
   "metadata": {},
   "outputs": [],
   "source": [
    "for category_var in [\"bus_route_id\", \"in_out\", \"station_code\", \"dayofweek\", \"weekday\"]:\n",
    "    train[category_var] = pd.Categorical(train[category_var])"
   ]
  },
  {
   "cell_type": "code",
   "execution_count": 60,
   "metadata": {},
   "outputs": [
    {
     "data": {
      "text/plain": [
       "Index(['bus_route_id', 'in_out', 'station_code', '6~7_ride', '7~8_ride',\n",
       "       '8~9_ride', '9~10_ride', '10~11_ride', '11~12_ride', '6~7_takeoff',\n",
       "       '7~8_takeoff', '8~9_takeoff', '9~10_takeoff', '10~11_takeoff',\n",
       "       '11~12_takeoff', '18~20_ride', 'dayofweek', 'weekday', 'korean',\n",
       "       'foreigner', 'visitor', '(t-3)', '(t-2)', '(t-1)', 'visitor_3days',\n",
       "       'n_A_grade', 'n_B_grade', 'n_C_grade', 'n_route', 'n_station',\n",
       "       '06~07_temp', '06~07_rain', '06~07_wind', '06~07_humidity',\n",
       "       '07~08_temp', '07~08_rain', '07~08_wind', '07~08_humidity',\n",
       "       '08~09_temp', '08~09_rain', '08~09_wind', '08~09_humidity',\n",
       "       '09~10_temp', '09~10_rain', '09~10_wind', '09~10_humidity',\n",
       "       '10~11_temp', '10~11_rain', '10~11_wind', '10~11_humidity',\n",
       "       '11~12_temp', '11~12_rain', '11~12_wind', '11~12_humidity', '06~07_THI',\n",
       "       '07~08_THI', '08~09_THI', '09~10_THI', '10~11_THI', '11~12_THI',\n",
       "       '06~07_THI_category', '07~08_THI_category', '08~09_THI_category',\n",
       "       '09~10_THI_category', '10~11_THI_category', '11~12_THI_category',\n",
       "       '06~07_rain_category', '07~08_rain_category', '08~09_rain_category',\n",
       "       '09~10_rain_category', '10~11_rain_category', '11~12_rain_category',\n",
       "       'mean_6~7_ride', 'mean_7~8_ride', 'mean_8~9_ride', 'mean_9~10_ride',\n",
       "       'mean_10~11_ride', 'mean_11~12_ride', 'mean_6~7_takeoff',\n",
       "       'mean_7~8_takeoff', 'mean_8~9_takeoff', 'mean_9~10_takeoff',\n",
       "       'mean_10~11_takeoff', 'mean_11~12_takeoff'],\n",
       "      dtype='object')"
      ]
     },
     "execution_count": 60,
     "metadata": {},
     "output_type": "execute_result"
    }
   ],
   "source": [
    "train.columns"
   ]
  },
  {
   "cell_type": "markdown",
   "metadata": {},
   "source": [
    "#### 입력 변수와 출력 변수 분리"
   ]
  },
  {
   "cell_type": "code",
   "execution_count": 61,
   "metadata": {},
   "outputs": [],
   "source": [
    "X_train = train.drop([\"18~20_ride\"], axis=1).values\n",
    "y_train = train[\"18~20_ride\"].values"
   ]
  },
  {
   "cell_type": "markdown",
   "metadata": {},
   "source": [
    "### 검증 데이터도 같은 과정을 통해 변환"
   ]
  },
  {
   "cell_type": "code",
   "execution_count": 62,
   "metadata": {},
   "outputs": [],
   "source": [
    "val_passengers = get_average_passengers(val)\n",
    "val = val.merge(airport,  how=\"left\")\n",
    "val = val.merge(stn,      how=\"left\")\n",
    "val = val.merge(route,    how=\"left\")\n",
    "val = val.merge(weather2, how=\"left\")\n",
    "val = val.merge(val_passengers, how=\"left\")\n",
    "\n",
    "val = val.drop([\"id\", \"date\", \"station_name\", \"latitude\", \"longitude\", \"weather_stn_id\", \"weather_stn_name\", \n",
    "                    \"weather_stn_latitude\", \"weather_stn_longitude\"], axis=1)\n",
    "\n",
    "val.loc[val.in_out==\"시내\", \"in_out\"] = 0\n",
    "val.loc[val.in_out==\"시외\", \"in_out\"] = 1\n",
    "\n",
    "for category_var in [\"bus_route_id\", \"in_out\", \"station_code\", \"dayofweek\", \"weekday\"]:\n",
    "    val[category_var] = pd.Categorical(val[category_var])\n",
    "    \n",
    "X_val = val.drop([\"18~20_ride\"], axis=1).values\n",
    "y_val = val[\"18~20_ride\"].values"
   ]
  },
  {
   "cell_type": "markdown",
   "metadata": {},
   "source": [
    "# 03. 1차 모델링\n",
    "### 03-01. 랜덤 포레스트"
   ]
  },
  {
   "cell_type": "code",
   "execution_count": 53,
   "metadata": {},
   "outputs": [
    {
     "data": {
      "text/plain": [
       "RandomForestRegressor(bootstrap=True, ccp_alpha=0.0, criterion='mse',\n",
       "                      max_depth=None, max_features='auto', max_leaf_nodes=None,\n",
       "                      max_samples=None, min_impurity_decrease=0.0,\n",
       "                      min_impurity_split=None, min_samples_leaf=1,\n",
       "                      min_samples_split=2, min_weight_fraction_leaf=0.0,\n",
       "                      n_estimators=100, n_jobs=-1, oob_score=False,\n",
       "                      random_state=42, verbose=0, warm_start=False)"
      ]
     },
     "execution_count": 53,
     "metadata": {},
     "output_type": "execute_result"
    }
   ],
   "source": [
    "rf = RandomForestRegressor(n_jobs=-1, random_state=42)\n",
    "rf.fit(X_train, y_train)"
   ]
  },
  {
   "cell_type": "markdown",
   "metadata": {},
   "source": [
    "#### 변수 중요도 확인\n",
    "- 날씨 관련 변수의 중요도가 전반적으로 낮음"
   ]
  },
  {
   "cell_type": "code",
   "execution_count": 54,
   "metadata": {},
   "outputs": [],
   "source": [
    "def plot_feature_importances(model, df):\n",
    "    n_features = df.shape[1]\n",
    "    plt.figure(figsize=(10, 10))\n",
    "    plt.barh(range(n_features), model.feature_importances_, align=\"center\")\n",
    "    plt.yticks(np.arange(n_features), list(df.columns))\n",
    "    plt.xlabel(\"Feature importances\")\n",
    "    plt.ylabel(\"Feature\")"
   ]
  },
  {
   "cell_type": "code",
   "execution_count": 55,
   "metadata": {},
   "outputs": [
    {
     "data": {
      "image/png": "[encoded data removed]",
      "text/plain": [
       "<Figure size 720x720 with 1 Axes>"
      ]
     },
     "metadata": {
      "needs_background": "light"
     },
     "output_type": "display_data"
    }
   ],
   "source": [
    "plot_feature_importances(rf, train.drop([\"18~20_ride\"], axis=1))"
   ]
  },
  {
   "cell_type": "code",
   "execution_count": 56,
   "metadata": {},
   "outputs": [
    {
     "data": {
      "text/plain": [
       "[('mean_10~11_ride', 0.36876472878545963),\n",
       " ('mean_9~10_ride', 0.06996706763728945),\n",
       " ('station_code', 0.04737708149226997),\n",
       " ('n_C_grade', 0.03907470028648511),\n",
       " ('mean_7~8_ride', 0.032673703290123764),\n",
       " ('mean_8~9_ride', 0.03231204022396951),\n",
       " ('mean_6~7_takeoff', 0.03199811258764832),\n",
       " ('bus_route_id', 0.025124975272255604),\n",
       " ('mean_7~8_takeoff', 0.018206261743255642),\n",
       " ('11~12_ride', 0.01818934168201671),\n",
       " ('n_route', 0.01742946163878566),\n",
       " ('mean_6~7_ride', 0.01692285981866213),\n",
       " ('9~10_ride', 0.01572549351044764),\n",
       " ('mean_10~11_takeoff', 0.01409327758991394),\n",
       " ('8~9_ride', 0.013645483627485803),\n",
       " ('mean_8~9_takeoff', 0.013105951011441581),\n",
       " ('11~12_rain_category', 0.012864451452042555),\n",
       " ('7~8_ride', 0.012409556492274005),\n",
       " ('mean_9~10_takeoff', 0.011484774914903314),\n",
       " ('10~11_ride', 0.011366356029754185),\n",
       " ('mean_11~12_ride', 0.008813713189152052),\n",
       " ('8~9_takeoff', 0.00794797028237212),\n",
       " ('6~7_ride', 0.007919377460821983),\n",
       " ('11~12_takeoff', 0.006705428130605119),\n",
       " ('9~10_takeoff', 0.006475793273844602),\n",
       " ('10~11_takeoff', 0.006336616956273043),\n",
       " ('foreigner', 0.00626689345341327),\n",
       " ('18~20_ride', 0.006130851922075008),\n",
       " ('weekday', 0.00586220434626328),\n",
       " ('(t-2)', 0.005614717321253362),\n",
       " ('06~07_rain', 0.00512303757421908),\n",
       " ('korean', 0.004837958501957218),\n",
       " ('7~8_takeoff', 0.004797199729040995),\n",
       " ('6~7_takeoff', 0.004788412984881358),\n",
       " ('visitor', 0.003946402087285779),\n",
       " ('11~12_rain', 0.003848132764007156),\n",
       " ('11~12_wind', 0.0037767332727952053),\n",
       " ('10~11_humidity', 0.003596040154920435),\n",
       " ('07~08_rain', 0.003587274929502541),\n",
       " ('10~11_rain', 0.003390411917674713),\n",
       " ('11~12_humidity', 0.003380881541113635),\n",
       " ('06~07_wind', 0.0032819819102188033),\n",
       " ('08~09_wind', 0.003278047250446518),\n",
       " ('(t-3)', 0.003200162238323272),\n",
       " ('09~10_rain', 0.0031365115191112135),\n",
       " ('08~09_rain', 0.003113113162677915),\n",
       " ('09~10_wind', 0.0030889158255778602),\n",
       " ('(t-1)', 0.0028007732701957255),\n",
       " ('10~11_wind', 0.0027755631690304984),\n",
       " ('n_station', 0.00268286749280686),\n",
       " ('07~08_wind', 0.0023978852741737486),\n",
       " ('10~11_THI', 0.002210762998599479),\n",
       " ('08~09_humidity', 0.002133927846867249),\n",
       " ('07~08_humidity', 0.0020730668089555446),\n",
       " ('09~10_humidity', 0.002032771477844744),\n",
       " ('n_A_grade', 0.0019261394990119933),\n",
       " ('06~07_humidity', 0.0018682416507079629),\n",
       " ('07~08_THI', 0.001793667853106813),\n",
       " ('09~10_THI', 0.0017821356064598867),\n",
       " ('08~09_THI', 0.0017469810020340189),\n",
       " ('n_B_grade', 0.0016623110734071299),\n",
       " ('06~07_THI', 0.0016383172329733663),\n",
       " ('06~07_temp', 0.0015289003918821141),\n",
       " ('08~09_temp', 0.0015162556288926853),\n",
       " ('visitor_3days', 0.0014490356017283499),\n",
       " ('07~08_temp', 0.0014463335028282766),\n",
       " ('09~10_temp', 0.00120164977064457),\n",
       " ('11~12_temp', 0.0009963271690903016),\n",
       " ('10~11_temp', 0.0009002403674255295),\n",
       " ('in_out', 0.000827419702054001),\n",
       " ('dayofweek', 0.000814892404915332),\n",
       " ('10~11_THI_category', 0.0006108991015319454),\n",
       " ('11~12_THI', 0.0004588843964350373),\n",
       " ('09~10_THI_category', 0.0003813581483623097),\n",
       " ('08~09_THI_category', 0.00031634552090084925),\n",
       " ('06~07_THI_category', 0.00030177832406058137),\n",
       " ('07~08_THI_category', 0.0002972969536841086),\n",
       " ('08~09_rain_category', 0.00024934955985477837),\n",
       " ('07~08_rain_category', 0.00013954515000084771),\n",
       " ('09~10_rain_category', 4.4122087461485044e-05),\n",
       " ('06~07_rain_category', 1.2153979277264224e-05),\n",
       " ('10~11_rain_category', 1.3371964825373222e-06),\n",
       " ('11~12_THI_category', 0.0)]"
      ]
     },
     "execution_count": 56,
     "metadata": {},
     "output_type": "execute_result"
    }
   ],
   "source": [
    "var_imp = []\n",
    "for var, imp in zip(train.columns, rf.feature_importances_):\n",
    "    var_imp.append((var, imp))\n",
    "    \n",
    "sorted(var_imp, key=lambda x: x[1], reverse=True)"
   ]
  },
  {
   "cell_type": "markdown",
   "metadata": {},
   "source": [
    "#### 모델 성능 확인"
   ]
  },
  {
   "cell_type": "code",
   "execution_count": 57,
   "metadata": {},
   "outputs": [
    {
     "name": "stdout",
     "output_type": "stream",
     "text": [
      "Random Forest train R^2:  0.95\n",
      "Random Forest val   R^2:  0.53\n",
      "Random Forest train RMSE: 1.01\n",
      "Random Forest val   RMSE: 3.21\n"
     ]
    }
   ],
   "source": [
    "rf_train_score = rf.score(X_train, y_train)\n",
    "rf_val_score   = rf.score(X_val, y_val)\n",
    "rf_train_rmse  = np.sqrt(mean_squared_error(y_train, rf.predict(X_train))) \n",
    "rf_val_rmse    = np.sqrt(mean_squared_error(y_val,   rf.predict(X_val)))\n",
    "\n",
    "print(\"Random Forest train R^2:  {:.2f}\".format(rf_train_score))\n",
    "print(\"Random Forest val   R^2:  {:.2f}\".format(rf_val_score))\n",
    "print(\"Random Forest train RMSE: {:.2f}\".format(rf_train_rmse))\n",
    "print(\"Random Forest val   RMSE: {:.2f}\".format(rf_val_rmse))"
   ]
  },
  {
   "cell_type": "markdown",
   "metadata": {},
   "source": [
    "### 03-02. XGBoost (eXtreme Gradient Boosting)"
   ]
  },
  {
   "cell_type": "code",
   "execution_count": 58,
   "metadata": {},
   "outputs": [
    {
     "data": {
      "text/plain": [
       "XGBRegressor(base_score=0.5, booster=None, colsample_bylevel=1,\n",
       "             colsample_bynode=1, colsample_bytree=1, gamma=0, gpu_id=-1,\n",
       "             importance_type='gain', interaction_constraints=None,\n",
       "             learning_rate=0.300000012, max_delta_step=0, max_depth=6,\n",
       "             min_child_weight=1, missing=nan, monotone_constraints=None,\n",
       "             n_estimators=100, n_jobs=-1, num_parallel_tree=1,\n",
       "             objective='reg:squarederror', random_state=42, reg_alpha=0,\n",
       "             reg_lambda=1, scale_pos_weight=1, subsample=1, tree_method=None,\n",
       "             validate_parameters=False, verbosity=None)"
      ]
     },
     "execution_count": 58,
     "metadata": {},
     "output_type": "execute_result"
    }
   ],
   "source": [
    "xgb = XGBRegressor(n_jobs=-1, random_state=42)\n",
    "xgb.fit(X_train, y_train)"
   ]
  },
  {
   "cell_type": "markdown",
   "metadata": {},
   "source": [
    "#### 모델 성능 확인"
   ]
  },
  {
   "cell_type": "code",
   "execution_count": 59,
   "metadata": {},
   "outputs": [
    {
     "name": "stdout",
     "output_type": "stream",
     "text": [
      "XGBoost train R^2:  0.84\n",
      "XGBoost val   R^2:  0.58\n",
      "XGBoost train RMSE: 1.89\n",
      "XGBoost val   RMSE: 3.03\n"
     ]
    }
   ],
   "source": [
    "xgb_train_score = xgb.score(X_train, y_train)\n",
    "xgb_val_score   = xgb.score(X_val,   y_val)\n",
    "xgb_train_rmse  = np.sqrt(mean_squared_error(y_train, xgb.predict(X_train)))\n",
    "xgb_val_rmse    = np.sqrt(mean_squared_error(y_val,   xgb.predict(X_val)))\n",
    "\n",
    "print(\"XGBoost train R^2:  {:.2f}\".format(xgb_train_score))\n",
    "print(\"XGBoost val   R^2:  {:.2f}\".format(xgb_val_score))\n",
    "print(\"XGBoost train RMSE: {:.2f}\".format(xgb_train_rmse))\n",
    "print(\"XGBoost val   RMSE: {:.2f}\".format(xgb_val_rmse))"
   ]
  },
  {
   "cell_type": "markdown",
   "metadata": {},
   "source": [
    "### 03-03. LightGBM"
   ]
  },
  {
   "cell_type": "code",
   "execution_count": 60,
   "metadata": {},
   "outputs": [
    {
     "data": {
      "text/plain": [
       "LGBMRegressor(boosting_type='gbdt', class_weight=None, colsample_bytree=1.0,\n",
       "              importance_type='split', learning_rate=0.1, max_depth=-1,\n",
       "              min_child_samples=20, min_child_weight=0.001, min_split_gain=0.0,\n",
       "              n_estimators=100, n_jobs=-1, num_leaves=31, objective=None,\n",
       "              random_state=42, reg_alpha=0.0, reg_lambda=0.0, silent=True,\n",
       "              subsample=1.0, subsample_for_bin=200000, subsample_freq=0)"
      ]
     },
     "execution_count": 60,
     "metadata": {},
     "output_type": "execute_result"
    }
   ],
   "source": [
    "lgbm = LGBMRegressor(n_jobs=-1, random_state=42)\n",
    "lgbm.fit(X_train, y_train)"
   ]
  },
  {
   "cell_type": "markdown",
   "metadata": {},
   "source": [
    "#### 모델 성능 확인"
   ]
  },
  {
   "cell_type": "code",
   "execution_count": 61,
   "metadata": {},
   "outputs": [
    {
     "name": "stdout",
     "output_type": "stream",
     "text": [
      "LightGBM train R^2:  0.76\n",
      "LightGBM val   R^2:  0.60\n",
      "LightGBM train RMSE: 2.32\n",
      "LightGBM val   RMSE: 2.98\n"
     ]
    }
   ],
   "source": [
    "lgbm_train_score = lgbm.score(X_train, y_train)\n",
    "lgbm_val_score   = lgbm.score(X_val,   y_val)\n",
    "lgbm_train_rmse  = np.sqrt(mean_squared_error(y_train, lgbm.predict(X_train)))\n",
    "lgbm_val_rmse    = np.sqrt(mean_squared_error(y_val,   lgbm.predict(X_val)))\n",
    "\n",
    "print(\"LightGBM train R^2:  {:.2f}\".format(lgbm_train_score))\n",
    "print(\"LightGBM val   R^2:  {:.2f}\".format(lgbm_val_score))\n",
    "print(\"LightGBM train RMSE: {:.2f}\".format(lgbm_train_rmse))\n",
    "print(\"LightGBM val   RMSE: {:.2f}\".format(lgbm_val_rmse))"
   ]
  },
  {
   "cell_type": "markdown",
   "metadata": {},
   "source": [
    "### 평가\n",
    "- RandomForest, XGBoost, LightGBM 모두 train셋과 val셋에서 성능 차이가 높은 것으로 보아 과대적합을 줄이기 위한 방법이 필요"
   ]
  },
  {
   "cell_type": "markdown",
   "metadata": {},
   "source": [
    "# 04. 2차 모델링 - 변수 제거\n",
    "- 현재 모델에 포함된 변수"
   ]
  },
  {
   "cell_type": "code",
   "execution_count": 62,
   "metadata": {},
   "outputs": [
    {
     "data": {
      "text/plain": [
       "Index(['bus_route_id', 'in_out', 'station_code', '6~7_ride', '7~8_ride',\n",
       "       '8~9_ride', '9~10_ride', '10~11_ride', '11~12_ride', '6~7_takeoff',\n",
       "       '7~8_takeoff', '8~9_takeoff', '9~10_takeoff', '10~11_takeoff',\n",
       "       '11~12_takeoff', '18~20_ride', 'dayofweek', 'weekday', 'korean',\n",
       "       'foreigner', 'visitor', '(t-3)', '(t-2)', '(t-1)', 'visitor_3days',\n",
       "       'n_A_grade', 'n_B_grade', 'n_C_grade', 'n_route', 'n_station',\n",
       "       '06~07_temp', '06~07_rain', '06~07_wind', '06~07_humidity',\n",
       "       '07~08_temp', '07~08_rain', '07~08_wind', '07~08_humidity',\n",
       "       '08~09_temp', '08~09_rain', '08~09_wind', '08~09_humidity',\n",
       "       '09~10_temp', '09~10_rain', '09~10_wind', '09~10_humidity',\n",
       "       '10~11_temp', '10~11_rain', '10~11_wind', '10~11_humidity',\n",
       "       '11~12_temp', '11~12_rain', '11~12_wind', '11~12_humidity', '06~07_THI',\n",
       "       '07~08_THI', '08~09_THI', '09~10_THI', '10~11_THI', '11~12_THI',\n",
       "       '06~07_THI_category', '07~08_THI_category', '08~09_THI_category',\n",
       "       '09~10_THI_category', '10~11_THI_category', '11~12_THI_category',\n",
       "       '06~07_rain_category', '07~08_rain_category', '08~09_rain_category',\n",
       "       '09~10_rain_category', '10~11_rain_category', '11~12_rain_category',\n",
       "       'mean_6~7_ride', 'mean_7~8_ride', 'mean_8~9_ride', 'mean_9~10_ride',\n",
       "       'mean_10~11_ride', 'mean_11~12_ride', 'mean_6~7_takeoff',\n",
       "       'mean_7~8_takeoff', 'mean_8~9_takeoff', 'mean_9~10_takeoff',\n",
       "       'mean_10~11_takeoff', 'mean_11~12_takeoff'],\n",
       "      dtype='object')"
      ]
     },
     "execution_count": 62,
     "metadata": {},
     "output_type": "execute_result"
    }
   ],
   "source": [
    "train.columns"
   ]
  },
  {
   "cell_type": "markdown",
   "metadata": {},
   "source": [
    "- 1차 **`RandomForest`** 모델의 변수 중요도를 참고하여 날씨 관련 변수를 모델링에서 제외"
   ]
  },
  {
   "cell_type": "code",
   "execution_count": 63,
   "metadata": {},
   "outputs": [],
   "source": [
    "var_2nd_drop = ['06~07_temp', '06~07_rain', '06~07_wind', '06~07_humidity', '07~08_temp', '07~08_rain', '07~08_wind', '07~08_humidity',\n",
    "           '08~09_temp', '08~09_rain', '08~09_wind', '08~09_humidity', '09~10_temp', '09~10_rain', '09~10_wind', '09~10_humidity',\n",
    "           '10~11_temp', '10~11_rain', '10~11_wind'', '10~11_rain_category', '11~12_rain_category', \"18~20_ride\"]\n",
    "train_2nd = train.drop(var_2nd_drop, axis=1)\n",
    "val_2nd = val.drop(var_2nd_drop, axis=1), '10~11_humidity', '11~12_temp', '11~12_rain', '11~12_wind', '11~12_humidity',\n",
    "           '06~07_THI', '07~08_THI', '08~09_THI', '09~10_THI', '10~11_THI', '11~12_THI', '06~07_THI_category', '07~08_THI_category',\n",
    "           '08~09_THI_category', '09~10_THI_category', '10~11_THI_category', '11~12_THI_category', '06~07_rain_category',\n",
    "           '07~08_rain_category', '08~09_rain_category', '09~10_rain_category\n",
    "\n",
    "X_train_2nd = train_2nd.values\n",
    "X_val_2nd   = val_2nd.values"
   ]
  },
  {
   "cell_type": "markdown",
   "metadata": {},
   "source": [
    "### 04-01. 랜덤 포레스트"
   ]
  },
  {
   "cell_type": "code",
   "execution_count": 64,
   "metadata": {},
   "outputs": [
    {
     "data": {
      "text/plain": [
       "RandomForestRegressor(bootstrap=True, ccp_alpha=0.0, criterion='mse',\n",
       "                      max_depth=None, max_features='auto', max_leaf_nodes=None,\n",
       "                      max_samples=None, min_impurity_decrease=0.0,\n",
       "                      min_impurity_split=None, min_samples_leaf=1,\n",
       "                      min_samples_split=2, min_weight_fraction_leaf=0.0,\n",
       "                      n_estimators=100, n_jobs=-1, oob_score=False,\n",
       "                      random_state=42, verbose=0, warm_start=False)"
      ]
     },
     "execution_count": 64,
     "metadata": {},
     "output_type": "execute_result"
    }
   ],
   "source": [
    "rf_2nd = RandomForestRegressor(n_jobs=-1, random_state=42)\n",
    "rf_2nd.fit(X_train_2nd, y_train)"
   ]
  },
  {
   "cell_type": "markdown",
   "metadata": {},
   "source": [
    "#### 변수 중요도 확인"
   ]
  },
  {
   "cell_type": "code",
   "execution_count": 65,
   "metadata": {},
   "outputs": [
    {
     "data": {
      "image/png": "[encoded data removed]",
      "text/plain": [
       "<Figure size 720x720 with 1 Axes>"
      ]
     },
     "metadata": {
      "needs_background": "light"
     },
     "output_type": "display_data"
    }
   ],
   "source": [
    "plot_feature_importances(rf_2nd, train_2nd)"
   ]
  },
  {
   "cell_type": "code",
   "execution_count": 66,
   "metadata": {},
   "outputs": [
    {
     "data": {
      "text/plain": [
       "[('mean_11~12_ride', 0.3690718551848224),\n",
       " ('mean_10~11_ride', 0.0711566826688867),\n",
       " ('station_code', 0.048112894739058255),\n",
       " ('n_route', 0.040388346379133015),\n",
       " ('mean_8~9_ride', 0.034133479614033825),\n",
       " ('mean_7~8_takeoff', 0.03301702360395577),\n",
       " ('mean_9~10_ride', 0.03297924764005298),\n",
       " ('bus_route_id', 0.02645629711960647),\n",
       " ('11~12_ride', 0.02122565374850757),\n",
       " ('mean_8~9_takeoff', 0.019323599809778033),\n",
       " ('n_station', 0.019213309652037602),\n",
       " ('mean_7~8_ride', 0.018593746767739266),\n",
       " ('9~10_ride', 0.017200774670513244),\n",
       " ('8~9_ride', 0.016027932226228423),\n",
       " ('mean_11~12_takeoff', 0.01534465690419924),\n",
       " ('7~8_ride', 0.015013117906167325),\n",
       " ('10~11_ride', 0.014157336347084507),\n",
       " ('mean_6~7_ride', 0.013384218763254751),\n",
       " ('mean_10~11_takeoff', 0.012705474676155704),\n",
       " ('mean_9~10_takeoff', 0.012539262457430339),\n",
       " ('(t-1)', 0.011557193284209795),\n",
       " ('visitor', 0.011080743031797012),\n",
       " ('foreigner', 0.01077456357893855),\n",
       " ('(t-3)', 0.010376367294949762),\n",
       " ('korean', 0.009794185549793635),\n",
       " ('(t-2)', 0.009718594550523074),\n",
       " ('8~9_takeoff', 0.009310630613237449),\n",
       " ('mean_6~7_takeoff', 0.009289844813121336),\n",
       " ('dayofweek', 0.009233431161262958),\n",
       " ('6~7_ride', 0.008945780881046953),\n",
       " ('9~10_takeoff', 0.008043242891014107),\n",
       " ('11~12_takeoff', 0.007855154958212675),\n",
       " ('10~11_takeoff', 0.0077950528657447895),\n",
       " ('visitor_3days', 0.007686484235709915),\n",
       " ('7~8_takeoff', 0.005802113720487794),\n",
       " ('6~7_takeoff', 0.00527246498284119),\n",
       " ('n_B_grade', 0.002114667026436144),\n",
       " ('n_C_grade', 0.0016892998459954204),\n",
       " ('n_A_grade', 0.0016814813811042912),\n",
       " ('weekday', 0.00108409549511357),\n",
       " ('in_out', 0.0008496969598141995)]"
      ]
     },
     "execution_count": 66,
     "metadata": {},
     "output_type": "execute_result"
    }
   ],
   "source": [
    "var_imp_2nd = []\n",
    "for var, imp in zip(train_2nd.columns, rf_2nd.feature_importances_):\n",
    "    var_imp_2nd.append((var, imp))\n",
    "    \n",
    "sorted(var_imp_2nd, key=lambda x: x[1], reverse=True)"
   ]
  },
  {
   "cell_type": "markdown",
   "metadata": {},
   "source": [
    "#### 모델 성능 확인"
   ]
  },
  {
   "cell_type": "code",
   "execution_count": 67,
   "metadata": {},
   "outputs": [
    {
     "name": "stdout",
     "output_type": "stream",
     "text": [
      "Random Forest 2nd train R^2:  0.96\n",
      "Random Forest 2nd val   R^2:  0.54\n",
      "Random Forest 2nd train RMSE: 0.99\n",
      "Random Forest 2nd val   RMSE: 3.16\n"
     ]
    }
   ],
   "source": [
    "rf_2nd_train_score = rf_2nd.score(X_train_2nd, y_train)\n",
    "rf_2nd_val_score   = rf_2nd.score(X_val_2nd, y_val)\n",
    "rf_2nd_train_rmse  = np.sqrt(mean_squared_error(y_train, rf_2nd.predict(X_train_2nd))) \n",
    "rf_2nd_val_rmse    = np.sqrt(mean_squared_error(y_val,   rf_2nd.predict(X_val_2nd)))\n",
    "\n",
    "print(\"Random Forest 2nd train R^2:  {:.2f}\".format(rf_2nd_train_score))\n",
    "print(\"Random Forest 2nd val   R^2:  {:.2f}\".format(rf_2nd_val_score))\n",
    "print(\"Random Forest 2nd train RMSE: {:.2f}\".format(rf_2nd_train_rmse))\n",
    "print(\"Random Forest 2nd val   RMSE: {:.2f}\".format(rf_2nd_val_rmse))"
   ]
  },
  {
   "cell_type": "markdown",
   "metadata": {},
   "source": [
    "### 04-02. XGBoost (eXtreme Gradient Boosting)"
   ]
  },
  {
   "cell_type": "code",
   "execution_count": 68,
   "metadata": {},
   "outputs": [
    {
     "data": {
      "text/plain": [
       "XGBRegressor(base_score=0.5, booster=None, colsample_bylevel=1,\n",
       "             colsample_bynode=1, colsample_bytree=1, gamma=0, gpu_id=-1,\n",
       "             importance_type='gain', interaction_constraints=None,\n",
       "             learning_rate=0.300000012, max_delta_step=0, max_depth=6,\n",
       "             min_child_weight=1, missing=nan, monotone_constraints=None,\n",
       "             n_estimators=100, n_jobs=-1, num_parallel_tree=1,\n",
       "             objective='reg:squarederror', random_state=42, reg_alpha=0,\n",
       "             reg_lambda=1, scale_pos_weight=1, subsample=1, tree_method=None,\n",
       "             validate_parameters=False, verbosity=None)"
      ]
     },
     "execution_count": 68,
     "metadata": {},
     "output_type": "execute_result"
    }
   ],
   "source": [
    "xgb_2nd = XGBRegressor(n_jobs=-1, random_state=42)\n",
    "xgb_2nd.fit(X_train_2nd, y_train)"
   ]
  },
  {
   "cell_type": "markdown",
   "metadata": {},
   "source": [
    "#### 모델 성능 확인"
   ]
  },
  {
   "cell_type": "code",
   "execution_count": 69,
   "metadata": {},
   "outputs": [
    {
     "name": "stdout",
     "output_type": "stream",
     "text": [
      "XGBoost 2nd train R^2:  0.84\n",
      "XGBoost 2nd val   R^2:  0.58\n",
      "XGBoost 2nd train RMSE: 1.92\n",
      "XGBoost 2nd val   RMSE: 3.05\n"
     ]
    }
   ],
   "source": [
    "xgb_2nd_train_score = xgb_2nd.score(X_train_2nd, y_train)\n",
    "xgb_2nd_val_score   = xgb_2nd.score(X_val_2nd, y_val)\n",
    "xgb_2nd_train_rmse  = np.sqrt(mean_squared_error(y_train, xgb_2nd.predict(X_train_2nd))) \n",
    "xgb_2nd_val_rmse    = np.sqrt(mean_squared_error(y_val,   xgb_2nd.predict(X_val_2nd)))\n",
    "\n",
    "print(\"XGBoost 2nd train R^2:  {:.2f}\".format(xgb_2nd_train_score))\n",
    "print(\"XGBoost 2nd val   R^2:  {:.2f}\".format(xgb_2nd_val_score))\n",
    "print(\"XGBoost 2nd train RMSE: {:.2f}\".format(xgb_2nd_train_rmse))\n",
    "print(\"XGBoost 2nd val   RMSE: {:.2f}\".format(xgb_2nd_val_rmse))"
   ]
  },
  {
   "cell_type": "markdown",
   "metadata": {},
   "source": [
    "### 04-03. LightGBM"
   ]
  },
  {
   "cell_type": "code",
   "execution_count": 70,
   "metadata": {},
   "outputs": [
    {
     "data": {
      "text/plain": [
       "LGBMRegressor(boosting_type='gbdt', class_weight=None, colsample_bytree=1.0,\n",
       "              importance_type='split', learning_rate=0.1, max_depth=-1,\n",
       "              min_child_samples=20, min_child_weight=0.001, min_split_gain=0.0,\n",
       "              n_estimators=100, n_jobs=-1, num_leaves=31, objective=None,\n",
       "              random_state=42, reg_alpha=0.0, reg_lambda=0.0, silent=True,\n",
       "              subsample=1.0, subsample_for_bin=200000, subsample_freq=0)"
      ]
     },
     "execution_count": 70,
     "metadata": {},
     "output_type": "execute_result"
    }
   ],
   "source": [
    "lgbm_2nd = LGBMRegressor(n_jobs=-1, random_state=42)\n",
    "lgbm_2nd.fit(X_train_2nd, y_train)"
   ]
  },
  {
   "cell_type": "markdown",
   "metadata": {},
   "source": [
    "#### 모델 성능 확인"
   ]
  },
  {
   "cell_type": "code",
   "execution_count": 71,
   "metadata": {},
   "outputs": [
    {
     "name": "stdout",
     "output_type": "stream",
     "text": [
      "LightGBM 2nd train R^2:  0.76\n",
      "LightGBM 2nd val   R^2:  0.59\n",
      "LightGBM 2nd train RMSE: 2.34\n",
      "LightGBM 2nd val   RMSE: 3.02\n"
     ]
    }
   ],
   "source": [
    "lgbm_2nd_train_score = lgbm_2nd.score(X_train_2nd, y_train)\n",
    "lgbm_2nd_val_score   = lgbm_2nd.score(X_val_2nd, y_val)\n",
    "lgbm_2nd_train_rmse  = np.sqrt(mean_squared_error(y_train, lgbm_2nd.predict(X_train_2nd))) \n",
    "lgbm_2nd_val_rmse    = np.sqrt(mean_squared_error(y_val,   lgbm_2nd.predict(X_val_2nd)))\n",
    "\n",
    "print(\"LightGBM 2nd train R^2:  {:.2f}\".format(lgbm_2nd_train_score))\n",
    "print(\"LightGBM 2nd val   R^2:  {:.2f}\".format(lgbm_2nd_val_score))\n",
    "print(\"LightGBM 2nd train RMSE: {:.2f}\".format(lgbm_2nd_train_rmse))\n",
    "print(\"LightGBM 2nd val   RMSE: {:.2f}\".format(lgbm_2nd_val_rmse))"
   ]
  },
  {
   "cell_type": "markdown",
   "metadata": {},
   "source": [
    "#### 평가\n",
    "- 2차 모델링의 결과에서도 과대적합이 발생\n",
    "- 비슷한 정보를 가지고 있는 변수 제거하여 3차 모델링 진행"
   ]
  },
  {
   "cell_type": "markdown",
   "metadata": {},
   "source": [
    "# 05. 3차 모델링 - 변수 제거\n",
    "- 현재 모델에 포함된 변수"
   ]
  },
  {
   "cell_type": "code",
   "execution_count": 72,
   "metadata": {},
   "outputs": [
    {
     "data": {
      "text/plain": [
       "Index(['bus_route_id', 'in_out', 'station_code', '6~7_ride', '7~8_ride',\n",
       "       '8~9_ride', '9~10_ride', '10~11_ride', '11~12_ride', '6~7_takeoff',\n",
       "       '7~8_takeoff', '8~9_takeoff', '9~10_takeoff', '10~11_takeoff',\n",
       "       '11~12_takeoff', 'dayofweek', 'weekday', 'korean', 'foreigner',\n",
       "       'visitor', '(t-3)', '(t-2)', '(t-1)', 'visitor_3days', 'n_A_grade',\n",
       "       'n_B_grade', 'n_C_grade', 'n_route', 'n_station', 'mean_6~7_ride',\n",
       "       'mean_7~8_ride', 'mean_8~9_ride', 'mean_9~10_ride', 'mean_10~11_ride',\n",
       "       'mean_11~12_ride', 'mean_6~7_takeoff', 'mean_7~8_takeoff',\n",
       "       'mean_8~9_takeoff', 'mean_9~10_takeoff', 'mean_10~11_takeoff',\n",
       "       'mean_11~12_takeoff'],\n",
       "      dtype='object')"
      ]
     },
     "execution_count": 72,
     "metadata": {},
     "output_type": "execute_result"
    }
   ],
   "source": [
    "train_2nd.columns"
   ]
  },
  {
   "cell_type": "markdown",
   "metadata": {},
   "source": [
    "- 2차 **`RandomForest`** 모델의 변수 중요도를 참고하여 비슷한 의미를 가지는 변수 및 중요도가 낮은 변수를 모델링에서 제외"
   ]
  },
  {
   "cell_type": "code",
   "execution_count": 73,
   "metadata": {},
   "outputs": [],
   "source": [
    "var_3rd_drop = [\"in_out\", 'weekday', \"n_A_grade\", \"n_B_grade\", \"n_C_grade\"]\n",
    "\n",
    "train_3rd = train_2nd.drop(var_3rd_drop, axis=1)\n",
    "val_3rd = val_2nd.drop(var_3rd_drop, axis=1)\n",
    "\n",
    "X_train_3rd = train_3rd.values\n",
    "X_val_3rd   = val_3rd.values"
   ]
  },
  {
   "cell_type": "markdown",
   "metadata": {},
   "source": [
    "### 05-01. 랜덤 포레스트"
   ]
  },
  {
   "cell_type": "code",
   "execution_count": 74,
   "metadata": {},
   "outputs": [
    {
     "data": {
      "text/plain": [
       "RandomForestRegressor(bootstrap=True, ccp_alpha=0.0, criterion='mse',\n",
       "                      max_depth=None, max_features='auto', max_leaf_nodes=None,\n",
       "                      max_samples=None, min_impurity_decrease=0.0,\n",
       "                      min_impurity_split=None, min_samples_leaf=1,\n",
       "                      min_samples_split=2, min_weight_fraction_leaf=0.0,\n",
       "                      n_estimators=100, n_jobs=-1, oob_score=False,\n",
       "                      random_state=42, verbose=0, warm_start=False)"
      ]
     },
     "execution_count": 74,
     "metadata": {},
     "output_type": "execute_result"
    }
   ],
   "source": [
    "rf_3rd = RandomForestRegressor(n_jobs=-1, random_state=42)\n",
    "rf_3rd.fit(X_train_3rd, y_train)"
   ]
  },
  {
   "cell_type": "markdown",
   "metadata": {},
   "source": [
    "#### 변수 중요도 확인"
   ]
  },
  {
   "cell_type": "code",
   "execution_count": 75,
   "metadata": {},
   "outputs": [
    {
     "data": {
      "image/png": "[encoded data removed]",
      "text/plain": [
       "<Figure size 720x720 with 1 Axes>"
      ]
     },
     "metadata": {
      "needs_background": "light"
     },
     "output_type": "display_data"
    }
   ],
   "source": [
    "plot_feature_importances(rf_3rd, train_3rd)"
   ]
  },
  {
   "cell_type": "code",
   "execution_count": 76,
   "metadata": {},
   "outputs": [
    {
     "data": {
      "text/plain": [
       "[('mean_11~12_ride', 0.3691466638433527),\n",
       " ('mean_10~11_ride', 0.07124447061167745),\n",
       " ('station_code', 0.049526219814196776),\n",
       " ('n_route', 0.04169458928599),\n",
       " ('mean_8~9_ride', 0.03424755579791548),\n",
       " ('mean_9~10_ride', 0.03335267957558742),\n",
       " ('mean_7~8_takeoff', 0.032728256269614765),\n",
       " ('bus_route_id', 0.027329286393728495),\n",
       " ('11~12_ride', 0.021072609675866254),\n",
       " ('n_station', 0.019371501394223507),\n",
       " ('mean_8~9_takeoff', 0.019227786273803244),\n",
       " ('mean_7~8_ride', 0.0188245839617552),\n",
       " ('9~10_ride', 0.01761289886465898),\n",
       " ('8~9_ride', 0.01636346337351161),\n",
       " ('7~8_ride', 0.015598314661313216),\n",
       " ('mean_11~12_takeoff', 0.014526439451304433),\n",
       " ('10~11_ride', 0.01444689869525449),\n",
       " ('mean_6~7_ride', 0.014141203963570473),\n",
       " ('mean_9~10_takeoff', 0.013278867299622151),\n",
       " ('mean_10~11_takeoff', 0.012592625390536969),\n",
       " ('(t-1)', 0.011968807032130269),\n",
       " ('visitor', 0.01093622194557971),\n",
       " ('foreigner', 0.01077771962744056),\n",
       " ('korean', 0.010622375078909698),\n",
       " ('(t-2)', 0.009974128604968047),\n",
       " ('(t-3)', 0.009870608500511536),\n",
       " ('8~9_takeoff', 0.009434216695318649),\n",
       " ('mean_6~7_takeoff', 0.009371744632982916),\n",
       " ('dayofweek', 0.00915548142185117),\n",
       " ('6~7_ride', 0.008938211614450952),\n",
       " ('11~12_takeoff', 0.008185466522078454),\n",
       " ('9~10_takeoff', 0.007988408941868393),\n",
       " ('visitor_3days', 0.007867913154713453),\n",
       " ('10~11_takeoff', 0.0073808475396558),\n",
       " ('7~8_takeoff', 0.00600882597833868),\n",
       " ('6~7_takeoff', 0.005192108111718213)]"
      ]
     },
     "execution_count": 76,
     "metadata": {},
     "output_type": "execute_result"
    }
   ],
   "source": [
    "var_imp_3rd = []\n",
    "for var, imp in zip(train_3rd.columns, rf_3rd.feature_importances_):\n",
    "    var_imp_3rd.append((var, imp))\n",
    "    \n",
    "sorted(var_imp_3rd, key=lambda x: x[1], reverse=True)"
   ]
  },
  {
   "cell_type": "markdown",
   "metadata": {},
   "source": [
    "#### 모델 성능 확인"
   ]
  },
  {
   "cell_type": "code",
   "execution_count": 77,
   "metadata": {},
   "outputs": [
    {
     "name": "stdout",
     "output_type": "stream",
     "text": [
      "Random Forest 3rd train R^2:  0.96\n",
      "Random Forest 3rd val   R^2:  0.54\n",
      "Random Forest 3rd train RMSE: 0.99\n",
      "Random Forest 3rd val   RMSE: 3.16\n"
     ]
    }
   ],
   "source": [
    "rf_3rd_train_score = rf_3rd.score(X_train_3rd, y_train)\n",
    "rf_3rd_val_score   = rf_3rd.score(X_val_3rd, y_val)\n",
    "rf_3rd_train_rmse  = np.sqrt(mean_squared_error(y_train, rf_3rd.predict(X_train_3rd))) \n",
    "rf_3rd_val_rmse    = np.sqrt(mean_squared_error(y_val,   rf_3rd.predict(X_val_3rd)))\n",
    "\n",
    "print(\"Random Forest 3rd train R^2:  {:.2f}\".format(rf_3rd_train_score))\n",
    "print(\"Random Forest 3rd val   R^2:  {:.2f}\".format(rf_3rd_val_score))\n",
    "print(\"Random Forest 3rd train RMSE: {:.2f}\".format(rf_3rd_train_rmse))\n",
    "print(\"Random Forest 3rd val   RMSE: {:.2f}\".format(rf_3rd_val_rmse))"
   ]
  },
  {
   "cell_type": "markdown",
   "metadata": {},
   "source": [
    "### 05-02. XGBoost (eXtreme Gradient Boosting)"
   ]
  },
  {
   "cell_type": "code",
   "execution_count": 78,
   "metadata": {},
   "outputs": [
    {
     "data": {
      "text/plain": [
       "XGBRegressor(base_score=0.5, booster=None, colsample_bylevel=1,\n",
       "             colsample_bynode=1, colsample_bytree=1, gamma=0, gpu_id=-1,\n",
       "             importance_type='gain', interaction_constraints=None,\n",
       "             learning_rate=0.300000012, max_delta_step=0, max_depth=6,\n",
       "             min_child_weight=1, missing=nan, monotone_constraints=None,\n",
       "             n_estimators=100, n_jobs=-1, num_parallel_tree=1,\n",
       "             objective='reg:squarederror', random_state=42, reg_alpha=0,\n",
       "             reg_lambda=1, scale_pos_weight=1, subsample=1, tree_method=None,\n",
       "             validate_parameters=False, verbosity=None)"
      ]
     },
     "execution_count": 78,
     "metadata": {},
     "output_type": "execute_result"
    }
   ],
   "source": [
    "xgb_3rd = XGBRegressor(n_jobs=-1, random_state=42)\n",
    "xgb_3rd.fit(X_train_3rd, y_train)"
   ]
  },
  {
   "cell_type": "markdown",
   "metadata": {},
   "source": [
    "#### 모델 성능 확인"
   ]
  },
  {
   "cell_type": "code",
   "execution_count": 79,
   "metadata": {},
   "outputs": [
    {
     "name": "stdout",
     "output_type": "stream",
     "text": [
      "XGBoost 3rd train R^2:  0.84\n",
      "XGBoost 3rd val   R^2:  0.59\n",
      "XGBoost 3rd train RMSE: 1.90\n",
      "XGBoost 3rd val   RMSE: 3.00\n"
     ]
    }
   ],
   "source": [
    "xgb_3rd_train_score = xgb_3rd.score(X_train_3rd, y_train)\n",
    "xgb_3rd_val_score   = xgb_3rd.score(X_val_3rd, y_val)\n",
    "xgb_3rd_train_rmse  = np.sqrt(mean_squared_error(y_train, xgb_3rd.predict(X_train_3rd))) \n",
    "xgb_3rd_val_rmse    = np.sqrt(mean_squared_error(y_val,   xgb_3rd.predict(X_val_3rd)))\n",
    "\n",
    "print(\"XGBoost 3rd train R^2:  {:.2f}\".format(xgb_3rd_train_score))\n",
    "print(\"XGBoost 3rd val   R^2:  {:.2f}\".format(xgb_3rd_val_score))\n",
    "print(\"XGBoost 3rd train RMSE: {:.2f}\".format(xgb_3rd_train_rmse))\n",
    "print(\"XGBoost 3rd val   RMSE: {:.2f}\".format(xgb_3rd_val_rmse))"
   ]
  },
  {
   "cell_type": "markdown",
   "metadata": {},
   "source": [
    "### 05-03. LightGBM"
   ]
  },
  {
   "cell_type": "code",
   "execution_count": 80,
   "metadata": {},
   "outputs": [
    {
     "data": {
      "text/plain": [
       "LGBMRegressor(boosting_type='gbdt', class_weight=None, colsample_bytree=1.0,\n",
       "              importance_type='split', learning_rate=0.1, max_depth=-1,\n",
       "              min_child_samples=20, min_child_weight=0.001, min_split_gain=0.0,\n",
       "              n_estimators=100, n_jobs=-1, num_leaves=31, objective=None,\n",
       "              random_state=42, reg_alpha=0.0, reg_lambda=0.0, silent=True,\n",
       "              subsample=1.0, subsample_for_bin=200000, subsample_freq=0)"
      ]
     },
     "execution_count": 80,
     "metadata": {},
     "output_type": "execute_result"
    }
   ],
   "source": [
    "lgbm_3rd = LGBMRegressor(n_jobs=-1, random_state=42)\n",
    "lgbm_3rd.fit(X_train_3rd, y_train)"
   ]
  },
  {
   "cell_type": "markdown",
   "metadata": {},
   "source": [
    "#### 모델 성능 확인"
   ]
  },
  {
   "cell_type": "code",
   "execution_count": 81,
   "metadata": {},
   "outputs": [
    {
     "name": "stdout",
     "output_type": "stream",
     "text": [
      "LightGBM 3rd train R^2:  0.76\n",
      "LightGBM 3rd val   R^2:  0.59\n",
      "LightGBM 3rd train RMSE: 2.34\n",
      "LightGBM 3rd val   RMSE: 3.01\n"
     ]
    }
   ],
   "source": [
    "lgbm_3rd_train_score = lgbm_3rd.score(X_train_3rd, y_train)\n",
    "lgbm_3rd_val_score   = lgbm_3rd.score(X_val_3rd, y_val)\n",
    "lgbm_3rd_train_rmse  = np.sqrt(mean_squared_error(y_train, lgbm_3rd.predict(X_train_3rd))) \n",
    "lgbm_3rd_val_rmse    = np.sqrt(mean_squared_error(y_val,   lgbm_3rd.predict(X_val_3rd)))\n",
    "\n",
    "print(\"LightGBM 3rd train R^2:  {:.2f}\".format(lgbm_3rd_train_score))\n",
    "print(\"LightGBM 3rd val   R^2:  {:.2f}\".format(lgbm_3rd_val_score))\n",
    "print(\"LightGBM 3rd train RMSE: {:.2f}\".format(lgbm_3rd_train_rmse))\n",
    "print(\"LightGBM 3rd val   RMSE: {:.2f}\".format(lgbm_3rd_val_rmse))"
   ]
  },
  {
   "cell_type": "markdown",
   "metadata": {},
   "source": [
    "### 05-04. 중간 평가 - 1차, 2차, 3차 모델링의 결과를 종합적으로 평가\n",
    "- 모델을 구성하는 변수의 숫자는 줄어들었지만 성능은 개선되지 않고 지속적인 과대적합 발생"
   ]
  },
  {
   "cell_type": "code",
   "execution_count": 82,
   "metadata": {},
   "outputs": [
    {
     "name": "stdout",
     "output_type": "stream",
     "text": [
      "-----------------RandomForest---------------\n",
      "1st train RMSE: 1.01 \t1st train R^2: 0.95\n",
      "1st val   RMSE: 3.21 \t1st val   R^2: 0.53\n",
      "--------------------------------------------\n",
      "2nd train RMSE: 0.99 \t2nd train R^2: 0.96\n",
      "2nd val   RMSE: 3.16 \t2nd val   R^2: 0.54\n",
      "--------------------------------------------\n",
      "3rd train RMSE: 0.99 \t3rd train R^2: 0.96\n",
      "3rd val   RMSE: 3.16 \t3rd val   R^2: 0.54\n"
     ]
    }
   ],
   "source": [
    "print(\"-----------------RandomForest---------------\")\n",
    "print(\"1st train RMSE: {:.2f} \\t1st train R^2: {:.2f}\".format(rf_train_rmse, rf_train_score))\n",
    "print(\"1st val   RMSE: {:.2f} \\t1st val   R^2: {:.2f}\".format(rf_val_rmse,   rf_val_score))\n",
    "print(\"--------------------------------------------\")\n",
    "print(\"2nd train RMSE: {:.2f} \\t2nd train R^2: {:.2f}\".format(rf_2nd_train_rmse, rf_2nd_train_score))\n",
    "print(\"2nd val   RMSE: {:.2f} \\t2nd val   R^2: {:.2f}\".format(rf_2nd_val_rmse,   rf_2nd_val_score))\n",
    "print(\"--------------------------------------------\")\n",
    "print(\"3rd train RMSE: {:.2f} \\t3rd train R^2: {:.2f}\".format(rf_3rd_train_rmse, rf_3rd_train_score))\n",
    "print(\"3rd val   RMSE: {:.2f} \\t3rd val   R^2: {:.2f}\".format(rf_3rd_val_rmse,   rf_3rd_val_score))"
   ]
  },
  {
   "cell_type": "code",
   "execution_count": 83,
   "metadata": {},
   "outputs": [
    {
     "name": "stdout",
     "output_type": "stream",
     "text": [
      "--------------------XGBoost-----------------\n",
      "1st train RMSE: 1.89 \t1st train R^2: 0.84\n",
      "1st val   RMSE: 3.03 \t1st val   R^2: 0.58\n",
      "--------------------------------------------\n",
      "2nd train RMSE: 1.92 \t2nd train R^2: 0.84\n",
      "2nd val   RMSE: 3.05 \t2nd val   R^2: 0.58\n",
      "--------------------------------------------\n",
      "3rd train RMSE: 1.90 \t3rd train R^2: 0.84\n",
      "3rd val   RMSE: 3.00 \t3rd val   R^2: 0.59\n"
     ]
    }
   ],
   "source": [
    "print(\"--------------------XGBoost-----------------\")\n",
    "print(\"1st train RMSE: {:.2f} \\t1st train R^2: {:.2f}\".format(xgb_train_rmse, xgb_train_score))\n",
    "print(\"1st val   RMSE: {:.2f} \\t1st val   R^2: {:.2f}\".format(xgb_val_rmse,   xgb_val_score))\n",
    "print(\"--------------------------------------------\")\n",
    "print(\"2nd train RMSE: {:.2f} \\t2nd train R^2: {:.2f}\".format(xgb_2nd_train_rmse, xgb_2nd_train_score))\n",
    "print(\"2nd val   RMSE: {:.2f} \\t2nd val   R^2: {:.2f}\".format(xgb_2nd_val_rmse,   xgb_2nd_val_score))\n",
    "print(\"--------------------------------------------\")\n",
    "print(\"3rd train RMSE: {:.2f} \\t3rd train R^2: {:.2f}\".format(xgb_3rd_train_rmse, xgb_3rd_train_score))\n",
    "print(\"3rd val   RMSE: {:.2f} \\t3rd val   R^2: {:.2f}\".format(xgb_3rd_val_rmse,   xgb_3rd_val_score))"
   ]
  },
  {
   "cell_type": "code",
   "execution_count": 84,
   "metadata": {},
   "outputs": [
    {
     "name": "stdout",
     "output_type": "stream",
     "text": [
      "-------------------LightGBM-----------------\n",
      "1st train RMSE: 2.32 \t1st train R^2: 0.76\n",
      "1st val   RMSE: 2.98 \t1st val   R^2: 0.60\n",
      "--------------------------------------------\n",
      "2nd train RMSE: 2.34 \t2nd train R^2: 0.76\n",
      "2nd val   RMSE: 3.02 \t2nd val   R^2: 0.59\n",
      "--------------------------------------------\n",
      "3rd train RMSE: 2.34 \t3rd train R^2: 0.76\n",
      "3rd val   RMSE: 3.01 \t3rd val   R^2: 0.59\n"
     ]
    }
   ],
   "source": [
    "print(\"-------------------LightGBM-----------------\")\n",
    "print(\"1st train RMSE: {:.2f} \\t1st train R^2: {:.2f}\".format(lgbm_train_rmse, lgbm_train_score))\n",
    "print(\"1st val   RMSE: {:.2f} \\t1st val   R^2: {:.2f}\".format(lgbm_val_rmse,   lgbm_val_score))\n",
    "print(\"--------------------------------------------\")\n",
    "print(\"2nd train RMSE: {:.2f} \\t2nd train R^2: {:.2f}\".format(lgbm_2nd_train_rmse, lgbm_2nd_train_score))\n",
    "print(\"2nd val   RMSE: {:.2f} \\t2nd val   R^2: {:.2f}\".format(lgbm_2nd_val_rmse,   lgbm_2nd_val_score))\n",
    "print(\"--------------------------------------------\")\n",
    "print(\"3rd train RMSE: {:.2f} \\t3rd train R^2: {:.2f}\".format(lgbm_3rd_train_rmse, lgbm_3rd_train_score))\n",
    "print(\"3rd val   RMSE: {:.2f} \\t3rd val   R^2: {:.2f}\".format(lgbm_3rd_val_rmse,   lgbm_3rd_val_score))"
   ]
  },
  {
   "cell_type": "markdown",
   "metadata": {},
   "source": [
    "# 06. 파라미터 튜닝\n",
    "- 1차, 2차, 3차 모델링에서 가장 성능이 좋았던 **`LightGBM`** 모델의 최적 매개변수를 그리드 서치를 통해 설정"
   ]
  },
  {
   "cell_type": "markdown",
   "metadata": {},
   "source": [
    "### 06-01. LightGBM Parameter tunning"
   ]
  },
  {
   "cell_type": "code",
   "execution_count": 123,
   "metadata": {},
   "outputs": [],
   "source": [
    "best_score = 0\n",
    "for max_depth in [3, 5, 7]:\n",
    "    for n_estimators in [100, 200, 300]:\n",
    "        for learning_rate in [0.001, 0.01, 0.1, 1, 10, 100]:\n",
    "            lgbm = LGBMRegressor(max_depth=max_depth,\n",
    "                               n_estimators=n_estimators, \n",
    "                               learning_rate=learning_rate,\n",
    "                               n_jobs=-1,\n",
    "                               random_state=42)\n",
    "            \n",
    "            # 교차 검증을 적용합니다.\n",
    "            scores = cross_val_score(lgbm, X_train, y_train, cv=5)\n",
    "\n",
    "            # 교차 검증 정확도의 평균을 계산합니다.\n",
    "            score = np.mean(scores)\n",
    "\n",
    "            # 점수가 더 높으면 매개변수와 함께 기록합니다.\n",
    "            if score > best_score:\n",
    "                best_score = score\n",
    "                best_parameters = {\"max_depth\":max_depth, \"n_estimators\":n_estimators, \"learning_rate\":learning_rate}\n",
    "\n",
    "grid_lgbm_1st = LGBMRegressor(**best_parameters, n_jobs=-1, random_state=42)"
   ]
  },
  {
   "cell_type": "code",
   "execution_count": 124,
   "metadata": {},
   "outputs": [],
   "source": [
    "best_score = 0\n",
    "for max_depth in [3, 5, 7]:\n",
    "    for n_estimators in [100, 200, 300]:\n",
    "        for learning_rate in [0.001, 0.01, 0.1, 1, 10, 100]:\n",
    "            lgbm = LGBMRegressor(max_depth=max_depth,\n",
    "                               n_estimators=n_estimators, \n",
    "                               learning_rate=learning_rate,\n",
    "                               n_jobs=-1,\n",
    "                               random_state=42)\n",
    "            \n",
    "            # 교차 검증을 적용합니다.\n",
    "            scores = cross_val_score(lgbm, X_train_2nd, y_train, cv=5)\n",
    "\n",
    "            # 교차 검증 정확도의 평균을 계산합니다.\n",
    "            score = np.mean(scores)\n",
    "\n",
    "            # 점수가 더 높으면 매개변수와 함께 기록합니다.\n",
    "            if score > best_score:\n",
    "                best_score = score\n",
    "                best_parameters = {\"max_depth\":max_depth, \"n_estimators\":n_estimators, \"learning_rate\":learning_rate}\n",
    "\n",
    "grid_lgbm_2nd = LGBMRegressor(**best_parameters, n_jobs=-1, random_state=42)"
   ]
  },
  {
   "cell_type": "code",
   "execution_count": 125,
   "metadata": {},
   "outputs": [],
   "source": [
    "best_score = 0\n",
    "for max_depth in [3, 5, 7]:\n",
    "    for n_estimators in [100, 200, 300]:\n",
    "        for learning_rate in [0.001, 0.01, 0.1, 1, 10, 100]:\n",
    "            lgbm = LGBMRegressor(max_depth=max_depth,\n",
    "                               n_estimators=n_estimators, \n",
    "                               learning_rate=learning_rate,\n",
    "                               n_jobs=-1,\n",
    "                               random_state=42)\n",
    "            \n",
    "            # 교차 검증을 적용합니다.\n",
    "            scores = cross_val_score(lgbm, X_train_3rd, y_train, cv=5)\n",
    "\n",
    "            # 교차 검증 정확도의 평균을 계산합니다.\n",
    "            score = np.mean(scores)\n",
    "\n",
    "            # 점수가 더 높으면 매개변수와 함께 기록합니다.\n",
    "            if score > best_score:\n",
    "                best_score = score\n",
    "                best_parameters = {\"max_depth\":max_depth, \"n_estimators\":n_estimators, \"learning_rate\":learning_rate}\n",
    "\n",
    "grid_lgbm_3rd = LGBMRegressor(**best_parameters, n_jobs=-1, random_state=42)"
   ]
  },
  {
   "cell_type": "markdown",
   "metadata": {},
   "source": [
    "#### 최적의 매개변수로 모델 피팅"
   ]
  },
  {
   "cell_type": "code",
   "execution_count": 126,
   "metadata": {},
   "outputs": [
    {
     "data": {
      "text/plain": [
       "LGBMRegressor(boosting_type='gbdt', class_weight=None, colsample_bytree=1.0,\n",
       "              importance_type='split', learning_rate=0.1, max_depth=7,\n",
       "              min_child_samples=20, min_child_weight=0.001, min_split_gain=0.0,\n",
       "              n_estimators=300, n_jobs=-1, num_leaves=31, objective=None,\n",
       "              random_state=42, reg_alpha=0.0, reg_lambda=0.0, silent=True,\n",
       "              subsample=1.0, subsample_for_bin=200000, subsample_freq=0)"
      ]
     },
     "execution_count": 126,
     "metadata": {},
     "output_type": "execute_result"
    }
   ],
   "source": [
    "grid_lgbm_1st.fit(X_train, y_train)\n",
    "grid_lgbm_2nd.fit(X_train_2nd, y_train)\n",
    "grid_lgbm_3rd.fit(X_train_3rd, y_train)"
   ]
  },
  {
   "cell_type": "markdown",
   "metadata": {},
   "source": [
    "#### 모델 성능 확인"
   ]
  },
  {
   "cell_type": "code",
   "execution_count": 128,
   "metadata": {},
   "outputs": [],
   "source": [
    "grid_lgbm_1st_train_score = grid_lgbm_1st.score(X_train, y_train)\n",
    "grid_lgbm_1st_val_score   = grid_lgbm_1st.score(X_val, y_val)\n",
    "grid_lgbm_1st_train_rmse  = np.sqrt(mean_squared_error(y_train, grid_lgbm_1st.predict(X_train))) \n",
    "grid_lgbm_1st_val_rmse    = np.sqrt(mean_squared_error(y_val,   grid_lgbm_1st.predict(X_val)))\n",
    "\n",
    "grid_lgbm_2nd_train_score = grid_lgbm_2nd.score(X_train_2nd, y_train)\n",
    "grid_lgbm_2nd_val_score   = grid_lgbm_2nd.score(X_val_2nd, y_val)\n",
    "grid_lgbm_2nd_train_rmse  = np.sqrt(mean_squared_error(y_train, grid_lgbm_2nd.predict(X_train_2nd))) \n",
    "grid_lgbm_2nd_val_rmse    = np.sqrt(mean_squared_error(y_val,   grid_lgbm_2nd.predict(X_val_2nd)))\n",
    "\n",
    "grid_lgbm_3rd_train_score = grid_lgbm_3rd.score(X_train_3rd, y_train)\n",
    "grid_lgbm_3rd_val_score   = grid_lgbm_3rd.score(X_val_3rd, y_val)\n",
    "grid_lgbm_3rd_train_rmse  = np.sqrt(mean_squared_error(y_train, grid_lgbm_3rd.predict(X_train_3rd))) \n",
    "grid_lgbm_3rd_val_rmse    = np.sqrt(mean_squared_error(y_val,   grid_lgbm_3rd.predict(X_val_3rd)))"
   ]
  },
  {
   "cell_type": "code",
   "execution_count": 129,
   "metadata": {},
   "outputs": [
    {
     "name": "stdout",
     "output_type": "stream",
     "text": [
      "---------------LightGBMGridSearch------------\n",
      "1st train RMSE: 2.05 \t1st train R^2: 0.81\n",
      "1st val   RMSE: 2.93 \t1st val   R^2: 0.61\n",
      "--------------------------------------------\n",
      "2nd train RMSE: 2.07 \t2nd train R^2: 0.81\n",
      "2nd val   RMSE: 2.95 \t2nd val   R^2: 0.60\n",
      "--------------------------------------------\n",
      "3rd train RMSE: 2.07 \t3rd train R^2: 0.81\n",
      "3rd val   RMSE: 2.93 \t3rd val   R^2: 0.61\n"
     ]
    }
   ],
   "source": [
    "print(\"---------------LightGBMGridSearch------------\")\n",
    "print(\"1st train RMSE: {:.2f} \\t1st train R^2: {:.2f}\".format(grid_lgbm_1st_train_rmse, grid_lgbm_1st_train_score))\n",
    "print(\"1st val   RMSE: {:.2f} \\t1st val   R^2: {:.2f}\".format(grid_lgbm_1st_val_rmse,   grid_lgbm_1st_val_score))\n",
    "print(\"--------------------------------------------\")\n",
    "print(\"2nd train RMSE: {:.2f} \\t2nd train R^2: {:.2f}\".format(grid_lgbm_2nd_train_rmse, grid_lgbm_2nd_train_score))\n",
    "print(\"2nd val   RMSE: {:.2f} \\t2nd val   R^2: {:.2f}\".format(grid_lgbm_2nd_val_rmse,   grid_lgbm_2nd_val_score))\n",
    "print(\"--------------------------------------------\")\n",
    "print(\"3rd train RMSE: {:.2f} \\t3rd train R^2: {:.2f}\".format(grid_lgbm_3rd_train_rmse, grid_lgbm_3rd_train_score))\n",
    "print(\"3rd val   RMSE: {:.2f} \\t3rd val   R^2: {:.2f}\".format(grid_lgbm_3rd_val_rmse,   grid_lgbm_3rd_val_score))"
   ]
  },
  {
   "cell_type": "markdown",
   "metadata": {},
   "source": [
    "## 최종 모델링\n",
    "- **`validation`** 셋에 대해서는 성능이 가장 좋으면서 변수를 가장 적게 사용하는 **`grid_lgbm_3rd_val`**를 최종 모델로 선정"
   ]
  },
  {
   "cell_type": "markdown",
   "metadata": {},
   "source": [
    "#### `trainval` 셋으로 최종 모델 피팅"
   ]
  },
  {
   "cell_type": "code",
   "execution_count": 140,
   "metadata": {},
   "outputs": [],
   "source": [
    "X_trainval = trainval[train_3rd.columns].values\n",
    "y_trainval = trainval[\"18~20_ride\"].values"
   ]
  },
  {
   "cell_type": "code",
   "execution_count": 141,
   "metadata": {},
   "outputs": [],
   "source": [
    "model = grid_lgbm_3rd.fit(X_trainval, y_trainval)"
   ]
  },
  {
   "cell_type": "code",
   "execution_count": 139,
   "metadata": {},
   "outputs": [
    {
     "data": {
      "text/html": [
       "<div>\n",
       "<style scoped>\n",
       "    .dataframe tbody tr th:only-of-type {\n",
       "        vertical-align: middle;\n",
       "    }\n",
       "\n",
       "    .dataframe tbody tr th {\n",
       "        vertical-align: top;\n",
       "    }\n",
       "\n",
       "    .dataframe thead th {\n",
       "        text-align: right;\n",
       "    }\n",
       "</style>\n",
       "<table border=\"1\" class=\"dataframe\">\n",
       "  <thead>\n",
       "    <tr style=\"text-align: right;\">\n",
       "      <th></th>\n",
       "      <th>bus_route_id</th>\n",
       "      <th>station_code</th>\n",
       "      <th>6~7_ride</th>\n",
       "      <th>7~8_ride</th>\n",
       "      <th>8~9_ride</th>\n",
       "      <th>9~10_ride</th>\n",
       "      <th>10~11_ride</th>\n",
       "      <th>11~12_ride</th>\n",
       "      <th>6~7_takeoff</th>\n",
       "      <th>7~8_takeoff</th>\n",
       "      <th>...</th>\n",
       "      <th>mean_8~9_ride</th>\n",
       "      <th>mean_9~10_ride</th>\n",
       "      <th>mean_10~11_ride</th>\n",
       "      <th>mean_11~12_ride</th>\n",
       "      <th>mean_6~7_takeoff</th>\n",
       "      <th>mean_7~8_takeoff</th>\n",
       "      <th>mean_8~9_takeoff</th>\n",
       "      <th>mean_9~10_takeoff</th>\n",
       "      <th>mean_10~11_takeoff</th>\n",
       "      <th>mean_11~12_takeoff</th>\n",
       "    </tr>\n",
       "  </thead>\n",
       "  <tbody>\n",
       "    <tr>\n",
       "      <th>0</th>\n",
       "      <td>4270000</td>\n",
       "      <td>344</td>\n",
       "      <td>0.0</td>\n",
       "      <td>1.0</td>\n",
       "      <td>2.0</td>\n",
       "      <td>5.0</td>\n",
       "      <td>2.0</td>\n",
       "      <td>6.0</td>\n",
       "      <td>0.0</td>\n",
       "      <td>0.0</td>\n",
       "      <td>...</td>\n",
       "      <td>2.6</td>\n",
       "      <td>2.0</td>\n",
       "      <td>2.0</td>\n",
       "      <td>2.0</td>\n",
       "      <td>0.00</td>\n",
       "      <td>0.0</td>\n",
       "      <td>0.0</td>\n",
       "      <td>0.2</td>\n",
       "      <td>0.0</td>\n",
       "      <td>0.0</td>\n",
       "    </tr>\n",
       "    <tr>\n",
       "      <th>1</th>\n",
       "      <td>4270000</td>\n",
       "      <td>357</td>\n",
       "      <td>1.0</td>\n",
       "      <td>4.0</td>\n",
       "      <td>4.0</td>\n",
       "      <td>2.0</td>\n",
       "      <td>5.0</td>\n",
       "      <td>6.0</td>\n",
       "      <td>0.0</td>\n",
       "      <td>0.0</td>\n",
       "      <td>...</td>\n",
       "      <td>6.2</td>\n",
       "      <td>3.0</td>\n",
       "      <td>6.2</td>\n",
       "      <td>4.2</td>\n",
       "      <td>0.00</td>\n",
       "      <td>0.0</td>\n",
       "      <td>0.0</td>\n",
       "      <td>0.0</td>\n",
       "      <td>0.0</td>\n",
       "      <td>0.0</td>\n",
       "    </tr>\n",
       "    <tr>\n",
       "      <th>2</th>\n",
       "      <td>4270000</td>\n",
       "      <td>432</td>\n",
       "      <td>1.0</td>\n",
       "      <td>1.0</td>\n",
       "      <td>0.0</td>\n",
       "      <td>2.0</td>\n",
       "      <td>0.0</td>\n",
       "      <td>0.0</td>\n",
       "      <td>0.0</td>\n",
       "      <td>0.0</td>\n",
       "      <td>...</td>\n",
       "      <td>1.0</td>\n",
       "      <td>1.0</td>\n",
       "      <td>1.0</td>\n",
       "      <td>1.6</td>\n",
       "      <td>0.00</td>\n",
       "      <td>0.0</td>\n",
       "      <td>0.0</td>\n",
       "      <td>0.0</td>\n",
       "      <td>0.0</td>\n",
       "      <td>0.0</td>\n",
       "    </tr>\n",
       "    <tr>\n",
       "      <th>3</th>\n",
       "      <td>4270000</td>\n",
       "      <td>1579</td>\n",
       "      <td>0.0</td>\n",
       "      <td>17.0</td>\n",
       "      <td>6.0</td>\n",
       "      <td>26.0</td>\n",
       "      <td>14.0</td>\n",
       "      <td>16.0</td>\n",
       "      <td>0.0</td>\n",
       "      <td>0.0</td>\n",
       "      <td>...</td>\n",
       "      <td>11.4</td>\n",
       "      <td>17.2</td>\n",
       "      <td>13.8</td>\n",
       "      <td>19.2</td>\n",
       "      <td>0.00</td>\n",
       "      <td>0.0</td>\n",
       "      <td>0.0</td>\n",
       "      <td>0.0</td>\n",
       "      <td>0.0</td>\n",
       "      <td>0.0</td>\n",
       "    </tr>\n",
       "    <tr>\n",
       "      <th>4</th>\n",
       "      <td>4270000</td>\n",
       "      <td>1646</td>\n",
       "      <td>0.0</td>\n",
       "      <td>0.0</td>\n",
       "      <td>0.0</td>\n",
       "      <td>0.0</td>\n",
       "      <td>0.0</td>\n",
       "      <td>0.0</td>\n",
       "      <td>0.0</td>\n",
       "      <td>0.0</td>\n",
       "      <td>...</td>\n",
       "      <td>0.0</td>\n",
       "      <td>0.0</td>\n",
       "      <td>0.6</td>\n",
       "      <td>0.0</td>\n",
       "      <td>0.00</td>\n",
       "      <td>0.0</td>\n",
       "      <td>0.2</td>\n",
       "      <td>0.8</td>\n",
       "      <td>0.2</td>\n",
       "      <td>0.2</td>\n",
       "    </tr>\n",
       "    <tr>\n",
       "      <th>...</th>\n",
       "      <td>...</td>\n",
       "      <td>...</td>\n",
       "      <td>...</td>\n",
       "      <td>...</td>\n",
       "      <td>...</td>\n",
       "      <td>...</td>\n",
       "      <td>...</td>\n",
       "      <td>...</td>\n",
       "      <td>...</td>\n",
       "      <td>...</td>\n",
       "      <td>...</td>\n",
       "      <td>...</td>\n",
       "      <td>...</td>\n",
       "      <td>...</td>\n",
       "      <td>...</td>\n",
       "      <td>...</td>\n",
       "      <td>...</td>\n",
       "      <td>...</td>\n",
       "      <td>...</td>\n",
       "      <td>...</td>\n",
       "      <td>...</td>\n",
       "    </tr>\n",
       "    <tr>\n",
       "      <th>415418</th>\n",
       "      <td>32820000</td>\n",
       "      <td>1129</td>\n",
       "      <td>4.0</td>\n",
       "      <td>0.0</td>\n",
       "      <td>0.0</td>\n",
       "      <td>0.0</td>\n",
       "      <td>0.0</td>\n",
       "      <td>0.0</td>\n",
       "      <td>0.0</td>\n",
       "      <td>0.0</td>\n",
       "      <td>...</td>\n",
       "      <td>0.0</td>\n",
       "      <td>0.0</td>\n",
       "      <td>0.0</td>\n",
       "      <td>0.0</td>\n",
       "      <td>0.25</td>\n",
       "      <td>0.0</td>\n",
       "      <td>0.0</td>\n",
       "      <td>0.0</td>\n",
       "      <td>0.0</td>\n",
       "      <td>0.0</td>\n",
       "    </tr>\n",
       "    <tr>\n",
       "      <th>415419</th>\n",
       "      <td>32820000</td>\n",
       "      <td>1564</td>\n",
       "      <td>4.0</td>\n",
       "      <td>0.0</td>\n",
       "      <td>0.0</td>\n",
       "      <td>0.0</td>\n",
       "      <td>0.0</td>\n",
       "      <td>0.0</td>\n",
       "      <td>0.0</td>\n",
       "      <td>0.0</td>\n",
       "      <td>...</td>\n",
       "      <td>0.0</td>\n",
       "      <td>0.0</td>\n",
       "      <td>0.0</td>\n",
       "      <td>0.0</td>\n",
       "      <td>0.00</td>\n",
       "      <td>0.0</td>\n",
       "      <td>0.0</td>\n",
       "      <td>0.0</td>\n",
       "      <td>0.0</td>\n",
       "      <td>0.0</td>\n",
       "    </tr>\n",
       "    <tr>\n",
       "      <th>415420</th>\n",
       "      <td>32820000</td>\n",
       "      <td>2322</td>\n",
       "      <td>0.0</td>\n",
       "      <td>0.0</td>\n",
       "      <td>0.0</td>\n",
       "      <td>0.0</td>\n",
       "      <td>0.0</td>\n",
       "      <td>0.0</td>\n",
       "      <td>0.0</td>\n",
       "      <td>1.0</td>\n",
       "      <td>...</td>\n",
       "      <td>0.0</td>\n",
       "      <td>0.0</td>\n",
       "      <td>0.0</td>\n",
       "      <td>0.0</td>\n",
       "      <td>0.00</td>\n",
       "      <td>1.0</td>\n",
       "      <td>0.0</td>\n",
       "      <td>0.0</td>\n",
       "      <td>0.0</td>\n",
       "      <td>0.0</td>\n",
       "    </tr>\n",
       "    <tr>\n",
       "      <th>415421</th>\n",
       "      <td>32820000</td>\n",
       "      <td>3291</td>\n",
       "      <td>1.0</td>\n",
       "      <td>0.0</td>\n",
       "      <td>0.0</td>\n",
       "      <td>0.0</td>\n",
       "      <td>0.0</td>\n",
       "      <td>0.0</td>\n",
       "      <td>0.0</td>\n",
       "      <td>0.0</td>\n",
       "      <td>...</td>\n",
       "      <td>0.0</td>\n",
       "      <td>0.0</td>\n",
       "      <td>0.0</td>\n",
       "      <td>0.0</td>\n",
       "      <td>0.00</td>\n",
       "      <td>0.0</td>\n",
       "      <td>0.0</td>\n",
       "      <td>0.0</td>\n",
       "      <td>0.0</td>\n",
       "      <td>0.0</td>\n",
       "    </tr>\n",
       "    <tr>\n",
       "      <th>415422</th>\n",
       "      <td>32820000</td>\n",
       "      <td>6115100</td>\n",
       "      <td>0.0</td>\n",
       "      <td>0.0</td>\n",
       "      <td>0.0</td>\n",
       "      <td>0.0</td>\n",
       "      <td>0.0</td>\n",
       "      <td>0.0</td>\n",
       "      <td>0.0</td>\n",
       "      <td>0.0</td>\n",
       "      <td>...</td>\n",
       "      <td>0.0</td>\n",
       "      <td>0.0</td>\n",
       "      <td>0.0</td>\n",
       "      <td>0.0</td>\n",
       "      <td>0.00</td>\n",
       "      <td>0.0</td>\n",
       "      <td>2.5</td>\n",
       "      <td>0.0</td>\n",
       "      <td>0.0</td>\n",
       "      <td>0.0</td>\n",
       "    </tr>\n",
       "  </tbody>\n",
       "</table>\n",
       "<p>415423 rows × 36 columns</p>\n",
       "</div>"
      ],
      "text/plain": [
       "       bus_route_id station_code  6~7_ride  7~8_ride  8~9_ride  9~10_ride  \\\n",
       "0           4270000          344       0.0       1.0       2.0        5.0   \n",
       "1           4270000          357       1.0       4.0       4.0        2.0   \n",
       "2           4270000          432       1.0       1.0       0.0        2.0   \n",
       "3           4270000         1579       0.0      17.0       6.0       26.0   \n",
       "4           4270000         1646       0.0       0.0       0.0        0.0   \n",
       "...             ...          ...       ...       ...       ...        ...   \n",
       "415418     32820000         1129       4.0       0.0       0.0        0.0   \n",
       "415419     32820000         1564       4.0       0.0       0.0        0.0   \n",
       "415420     32820000         2322       0.0       0.0       0.0        0.0   \n",
       "415421     32820000         3291       1.0       0.0       0.0        0.0   \n",
       "415422     32820000      6115100       0.0       0.0       0.0        0.0   \n",
       "\n",
       "        10~11_ride  11~12_ride  6~7_takeoff  7~8_takeoff  ...  mean_8~9_ride  \\\n",
       "0              2.0         6.0          0.0          0.0  ...            2.6   \n",
       "1              5.0         6.0          0.0          0.0  ...            6.2   \n",
       "2              0.0         0.0          0.0          0.0  ...            1.0   \n",
       "3             14.0        16.0          0.0          0.0  ...           11.4   \n",
       "4              0.0         0.0          0.0          0.0  ...            0.0   \n",
       "...            ...         ...          ...          ...  ...            ...   \n",
       "415418         0.0         0.0          0.0          0.0  ...            0.0   \n",
       "415419         0.0         0.0          0.0          0.0  ...            0.0   \n",
       "415420         0.0         0.0          0.0          1.0  ...            0.0   \n",
       "415421         0.0         0.0          0.0          0.0  ...            0.0   \n",
       "415422         0.0         0.0          0.0          0.0  ...            0.0   \n",
       "\n",
       "        mean_9~10_ride  mean_10~11_ride  mean_11~12_ride mean_6~7_takeoff  \\\n",
       "0                  2.0              2.0              2.0             0.00   \n",
       "1                  3.0              6.2              4.2             0.00   \n",
       "2                  1.0              1.0              1.6             0.00   \n",
       "3                 17.2             13.8             19.2             0.00   \n",
       "4                  0.0              0.6              0.0             0.00   \n",
       "...                ...              ...              ...              ...   \n",
       "415418             0.0              0.0              0.0             0.25   \n",
       "415419             0.0              0.0              0.0             0.00   \n",
       "415420             0.0              0.0              0.0             0.00   \n",
       "415421             0.0              0.0              0.0             0.00   \n",
       "415422             0.0              0.0              0.0             0.00   \n",
       "\n",
       "        mean_7~8_takeoff  mean_8~9_takeoff  mean_9~10_takeoff  \\\n",
       "0                    0.0               0.0                0.2   \n",
       "1                    0.0               0.0                0.0   \n",
       "2                    0.0               0.0                0.0   \n",
       "3                    0.0               0.0                0.0   \n",
       "4                    0.0               0.2                0.8   \n",
       "...                  ...               ...                ...   \n",
       "415418               0.0               0.0                0.0   \n",
       "415419               0.0               0.0                0.0   \n",
       "415420               1.0               0.0                0.0   \n",
       "415421               0.0               0.0                0.0   \n",
       "415422               0.0               2.5                0.0   \n",
       "\n",
       "       mean_10~11_takeoff mean_11~12_takeoff  \n",
       "0                     0.0                0.0  \n",
       "1                     0.0                0.0  \n",
       "2                     0.0                0.0  \n",
       "3                     0.0                0.0  \n",
       "4                     0.2                0.2  \n",
       "...                   ...                ...  \n",
       "415418                0.0                0.0  \n",
       "415419                0.0                0.0  \n",
       "415420                0.0                0.0  \n",
       "415421                0.0                0.0  \n",
       "415422                0.0                0.0  \n",
       "\n",
       "[415423 rows x 36 columns]"
      ]
     },
     "execution_count": 139,
     "metadata": {},
     "output_type": "execute_result"
    }
   ],
   "source": [
    "X_trainval"
   ]
  },
  {
   "cell_type": "markdown",
   "metadata": {},
   "source": [
    "#### test 데이터 변환"
   ]
  },
  {
   "cell_type": "code",
   "execution_count": 143,
   "metadata": {},
   "outputs": [],
   "source": [
    "test[\"weekday\"] = test.date.apply(weekday_category)"
   ]
  },
  {
   "cell_type": "code",
   "execution_count": 145,
   "metadata": {},
   "outputs": [],
   "source": [
    "test_passengers = test.drop([\"id\", \"date\", \"station_name\", \"latitude\", \"longitude\", 'weekday'], axis=1)\n",
    "test_passengers[\"bus\"] = test_passengers.bus_route_id.astype(str) + \" \" + test_passengers.in_out.astype(str) + \" \" + test_passengers.station_code.astype(str) + \" \" + test_passengers.dayofweek.astype(str)\n",
    "test_passengers.drop([\"bus_route_id\", \"in_out\", \"station_code\", \"dayofweek\"], axis=1, inplace=True)\n",
    "test_passengers = test_passengers.groupby(\"bus\").mean().reset_index()\n",
    " \n",
    "col_list = []\n",
    "    \n",
    "for col_idx in range(1, len(test_passengers.columns)):\n",
    "    col_list.append(\"mean_\" + test_passengers.columns[col_idx])\n",
    "        \n",
    "col_list = [\"bus\"] + col_list\n",
    "test_passengers.columns = col_list\n",
    "    \n",
    "test_passengers[\"bus_route_id\"] = test_passengers.bus.apply(lambda x: x.split(\" \")[0]).astype(int)\n",
    "test_passengers[\"in_out\"] =  test_passengers.bus.apply(lambda x: x.split(\" \")[1])\n",
    "test_passengers[\"station_code\"] =  test_passengers.bus.apply(lambda x: x.split(\" \")[2]).astype(int)\n",
    "test_passengers[\"dayofweek\"] = test_passengers.bus.apply(lambda x: x.split(\" \")[3]).astype(int)\n",
    "test_passengers.drop([\"bus\"], axis=1, inplace=True)"
   ]
  },
  {
   "cell_type": "code",
   "execution_count": 146,
   "metadata": {},
   "outputs": [],
   "source": [
    "test = test.merge(airport,  how=\"left\")\n",
    "test = test.merge(stn,      how=\"left\")\n",
    "test = test.merge(route,    how=\"left\")\n",
    "test = test.merge(weather2, how=\"left\")\n",
    "test = test.merge(test_passengers, how=\"left\")"
   ]
  },
  {
   "cell_type": "code",
   "execution_count": 148,
   "metadata": {},
   "outputs": [],
   "source": [
    "test = test.drop([\"id\", \"date\", \"station_name\", \"latitude\", \"longitude\", \"weather_stn_id\", \"weather_stn_name\", \n",
    "                    \"weather_stn_latitude\", \"weather_stn_longitude\"], axis=1)"
   ]
  },
  {
   "cell_type": "code",
   "execution_count": 149,
   "metadata": {},
   "outputs": [],
   "source": [
    "test.loc[test.in_out==\"시내\", \"in_out\"] = 0\n",
    "test.loc[test.in_out==\"시외\", \"in_out\"] = 1\n",
    "\n",
    "for category_var in [\"bus_route_id\", \"in_out\", \"station_code\", \"dayofweek\", \"weekday\"]:\n",
    "    test[category_var] = pd.Categorical(test[category_var])"
   ]
  },
  {
   "cell_type": "code",
   "execution_count": 152,
   "metadata": {},
   "outputs": [],
   "source": [
    "X_test = test[train_3rd.columns].values"
   ]
  },
  {
   "cell_type": "code",
   "execution_count": 154,
   "metadata": {},
   "outputs": [],
   "source": [
    "result = pd.read_csv(\"./data/submission_sample.csv\")"
   ]
  },
  {
   "cell_type": "code",
   "execution_count": 153,
   "metadata": {},
   "outputs": [],
   "source": [
    "y_test = model.predict(X_test)"
   ]
  },
  {
   "cell_type": "code",
   "execution_count": 165,
   "metadata": {},
   "outputs": [],
   "source": [
    "result[\"18~20_ride\"] = y_test"
   ]
  },
  {
   "cell_type": "code",
   "execution_count": 164,
   "metadata": {},
   "outputs": [],
   "source": [
    "result.to_csv(\"./data/result.csv\", index=False)"
   ]
  }
 ],
 "metadata": {
  "kernelspec": {
   "display_name": "Python 3",
   "language": "python",
   "name": "python3"
  },
  "language_info": {
   "codemirror_mode": {
    "name": "ipython",
    "version": 3
   },
   "file_extension": ".py",
   "mimetype": "text/x-python",
   "name": "python",
   "nbconvert_exporter": "python",
   "pygments_lexer": "ipython3",
   "version": "3.7.6"
  }
 },
 "nbformat": 4,
 "nbformat_minor": 2
}
